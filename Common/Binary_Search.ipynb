{
 "cells": [
  {
   "cell_type": "markdown",
   "id": "6f50b3ba-db6b-45d3-9a8f-0fcf06bb409f",
   "metadata": {},
   "source": [
    "# Binary Search"
   ]
  },
  {
   "cell_type": "markdown",
   "id": "28b123dc-7e5c-4c8a-bcb6-5b57d9640d3e",
   "metadata": {},
   "source": [
    "### How to find an element in a sorted array"
   ]
  },
  {
   "cell_type": "code",
   "execution_count": 2,
   "id": "7aa481c6-9805-4317-abc5-d84cae080342",
   "metadata": {},
   "outputs": [],
   "source": [
    "l = [1, 3, 5, 9, 11, 17, 22, 24, 31, 47, 55]"
   ]
  },
  {
   "cell_type": "code",
   "execution_count": 5,
   "id": "65cf4652-da08-4a58-8bde-de65fb4ea8e4",
   "metadata": {},
   "outputs": [],
   "source": [
    "def find_index(target):\n",
    "    left, right = 0, len(l)\n",
    "    while left < right:\n",
    "        middle = (left + right) // 2\n",
    "        if l[middle] == target:\n",
    "            return middle\n",
    "        elif target < l[middle]:\n",
    "            right = middle\n",
    "        else:\n",
    "            left = middle + 1\n",
    "    return -1"
   ]
  },
  {
   "cell_type": "code",
   "execution_count": 7,
   "id": "aa169727-3b61-4f79-92fd-3affa308180e",
   "metadata": {},
   "outputs": [
    {
     "data": {
      "text/plain": [
       "2"
      ]
     },
     "execution_count": 7,
     "metadata": {},
     "output_type": "execute_result"
    }
   ],
   "source": [
    "find_index(5)"
   ]
  },
  {
   "cell_type": "code",
   "execution_count": 8,
   "id": "e91b7ba8-bfb5-4134-b5d4-b338374844b7",
   "metadata": {},
   "outputs": [
    {
     "data": {
      "text/plain": [
       "10"
      ]
     },
     "execution_count": 8,
     "metadata": {},
     "output_type": "execute_result"
    }
   ],
   "source": [
    "find_index(55)"
   ]
  },
  {
   "cell_type": "code",
   "execution_count": 9,
   "id": "4fd7a3ed-41d0-42e8-bc61-8fd8380f4535",
   "metadata": {},
   "outputs": [
    {
     "data": {
      "text/plain": [
       "-1"
      ]
     },
     "execution_count": 9,
     "metadata": {},
     "output_type": "execute_result"
    }
   ],
   "source": [
    "find_index(35)"
   ]
  }
 ],
 "metadata": {
  "kernelspec": {
   "display_name": "Python 3",
   "language": "python",
   "name": "python3"
  },
  "language_info": {
   "codemirror_mode": {
    "name": "ipython",
    "version": 3
   },
   "file_extension": ".py",
   "mimetype": "text/x-python",
   "name": "python",
   "nbconvert_exporter": "python",
   "pygments_lexer": "ipython3",
   "version": "3.6.3"
  }
 },
 "nbformat": 4,
 "nbformat_minor": 5
}
