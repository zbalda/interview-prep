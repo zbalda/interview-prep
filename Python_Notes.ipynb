{
 "cells": [
  {
   "cell_type": "markdown",
   "id": "b4229a0a-955c-4580-9d9c-0c69201eaa55",
   "metadata": {},
   "source": [
    "## Deque\n",
    "#### Pronounced \"deck\", means \"double-ended queue\""
   ]
  },
  {
   "cell_type": "code",
   "execution_count": 1,
   "id": "dc26cc0b-f5d8-4261-b877-5d442fffef56",
   "metadata": {},
   "outputs": [
    {
     "name": "stdout",
     "output_type": "stream",
     "text": [
      "deque([3, 4])\n",
      "deque([1, 2, 3, 4])\n",
      "4\n",
      "1\n"
     ]
    }
   ],
   "source": [
    "from collections import deque\n",
    "a = deque()\n",
    "a.append(3)\n",
    "a.append(4)\n",
    "print(a)\n",
    "a.appendleft(2)\n",
    "a.appendleft(1)\n",
    "print(a)\n",
    "print(a.pop())\n",
    "print(a.popleft())"
   ]
  },
  {
   "cell_type": "markdown",
   "id": "bf24ad38-7091-4532-b859-56724f50275c",
   "metadata": {},
   "source": [
    "#### Stack\n",
    " - push() uses appendleft()\n",
    " - pop() uses popleft()\n",
    "\n",
    "#### Queue:\n",
    " - enqueue() uses append()\n",
    " - dequeue() uses popleft()"
   ]
  },
  {
   "cell_type": "markdown",
   "id": "d4f690a8-cc3a-4f11-a58e-388ec1ca5587",
   "metadata": {},
   "source": [
    "## Hash Tables"
   ]
  },
  {
   "cell_type": "markdown",
   "id": "21a821af-ac91-47b3-8b6e-8805092aa054",
   "metadata": {},
   "source": [
    "### Dictionaries (Hash maps)"
   ]
  },
  {
   "cell_type": "code",
   "execution_count": 5,
   "id": "dd25e8cc-8578-43c0-a942-81e8056224c2",
   "metadata": {},
   "outputs": [
    {
     "name": "stdout",
     "output_type": "stream",
     "text": [
      "{'key1': 'first value', 'key2': 'second value'}\n",
      "{'key2': 'second value'}\n"
     ]
    }
   ],
   "source": [
    "a = {}\n",
    "a['key1'] = 'first value'\n",
    "a['key2'] = 'second value'\n",
    "print(a)\n",
    "del a['key1']\n",
    "print(a)"
   ]
  },
  {
   "cell_type": "markdown",
   "id": "341bc7aa-59ec-4f9c-97bb-cf09a708d487",
   "metadata": {},
   "source": [
    "### Sets (Hash Sets)"
   ]
  },
  {
   "cell_type": "code",
   "execution_count": 6,
   "id": "21fc870e-5168-49a2-a6d9-3b4c9d2b2a8f",
   "metadata": {},
   "outputs": [
    {
     "name": "stdout",
     "output_type": "stream",
     "text": [
      "{'item2', 'item1'}\n",
      "{'item2'}\n"
     ]
    }
   ],
   "source": [
    "a = set()\n",
    "a.add('item1')\n",
    "a.add('item2')\n",
    "print(a)\n",
    "a.remove('item1')\n",
    "print(a)"
   ]
  },
  {
   "cell_type": "markdown",
   "id": "b19f9a56-d8f5-4a92-a470-13e9796b3572",
   "metadata": {},
   "source": [
    "### Computational Complexity"
   ]
  },
  {
   "cell_type": "markdown",
   "id": "af17f354-a7c4-4dd1-81b4-4ea800563f0b",
   "metadata": {},
   "source": [
    " - Ideally, O(1) insertion, O(1) lookup. However, collisions!\n",
    " - Buckets are linked lists (separate chaining) -> O(1) insertion, O(n) lookup\n",
    " - Buckets are balanced binary search trees (AVL trees) -> O(log n) insertion, O(log n) lookup\n",
    " - Python dictionaries -> Avg(1) and O(n) for insertion, lookup, and deletion"
   ]
  },
  {
   "cell_type": "code",
   "execution_count": null,
   "id": "97f564c5-2f55-454b-8e91-b6ddd9f48242",
   "metadata": {},
   "outputs": [],
   "source": []
  }
 ],
 "metadata": {
  "kernelspec": {
   "display_name": "Python 3",
   "language": "python",
   "name": "python3"
  },
  "language_info": {
   "codemirror_mode": {
    "name": "ipython",
    "version": 3
   },
   "file_extension": ".py",
   "mimetype": "text/x-python",
   "name": "python",
   "nbconvert_exporter": "python",
   "pygments_lexer": "ipython3",
   "version": "3.6.3"
  }
 },
 "nbformat": 4,
 "nbformat_minor": 5
}
