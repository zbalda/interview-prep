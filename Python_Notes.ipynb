{
 "cells": [
  {
   "cell_type": "markdown",
   "id": "b4229a0a-955c-4580-9d9c-0c69201eaa55",
   "metadata": {},
   "source": [
    "## Deque\n",
    "#### Pronounced \"deck\", means \"double-ended queue\""
   ]
  },
  {
   "cell_type": "code",
   "execution_count": 1,
   "id": "dc26cc0b-f5d8-4261-b877-5d442fffef56",
   "metadata": {},
   "outputs": [
    {
     "name": "stdout",
     "output_type": "stream",
     "text": [
      "deque([3, 4])\n",
      "deque([1, 2, 3, 4])\n",
      "4\n",
      "1\n"
     ]
    }
   ],
   "source": [
    "from collections import deque\n",
    "a = deque()\n",
    "a.append(3)\n",
    "a.append(4)\n",
    "print(a)\n",
    "a.appendleft(2)\n",
    "a.appendleft(1)\n",
    "print(a)\n",
    "print(a.pop())\n",
    "print(a.popleft())"
   ]
  },
  {
   "cell_type": "markdown",
   "id": "bf24ad38-7091-4532-b859-56724f50275c",
   "metadata": {},
   "source": [
    "#### Stack\n",
    " - push() uses appendleft()\n",
    " - pop() uses popleft()\n",
    "\n",
    "#### Queue:\n",
    " - enqueue() uses append()\n",
    " - dequeue() uses popleft()"
   ]
  },
  {
   "cell_type": "markdown",
   "id": "d4f690a8-cc3a-4f11-a58e-388ec1ca5587",
   "metadata": {},
   "source": [
    "## Hash Tables"
   ]
  },
  {
   "cell_type": "markdown",
   "id": "21a821af-ac91-47b3-8b6e-8805092aa054",
   "metadata": {},
   "source": [
    "### Dictionaries (Hash maps)"
   ]
  },
  {
   "cell_type": "code",
   "execution_count": 5,
   "id": "dd25e8cc-8578-43c0-a942-81e8056224c2",
   "metadata": {},
   "outputs": [
    {
     "name": "stdout",
     "output_type": "stream",
     "text": [
      "{'key1': 'first value', 'key2': 'second value'}\n",
      "{'key2': 'second value'}\n"
     ]
    }
   ],
   "source": [
    "a = {}\n",
    "a['key1'] = 'first value'\n",
    "a['key2'] = 'second value'\n",
    "print(a)\n",
    "del a['key1']\n",
    "print(a)"
   ]
  },
  {
   "cell_type": "markdown",
   "id": "341bc7aa-59ec-4f9c-97bb-cf09a708d487",
   "metadata": {},
   "source": [
    "### Sets (Hash Sets)"
   ]
  },
  {
   "cell_type": "code",
   "execution_count": 6,
   "id": "21fc870e-5168-49a2-a6d9-3b4c9d2b2a8f",
   "metadata": {},
   "outputs": [
    {
     "name": "stdout",
     "output_type": "stream",
     "text": [
      "{'item2', 'item1'}\n",
      "{'item2'}\n"
     ]
    }
   ],
   "source": [
    "a = set()\n",
    "a.add('item1')\n",
    "a.add('item2')\n",
    "print(a)\n",
    "a.remove('item1')\n",
    "print(a)"
   ]
  },
  {
   "cell_type": "markdown",
   "id": "b19f9a56-d8f5-4a92-a470-13e9796b3572",
   "metadata": {},
   "source": [
    "### Computational Complexity"
   ]
  },
  {
   "cell_type": "markdown",
   "id": "af17f354-a7c4-4dd1-81b4-4ea800563f0b",
   "metadata": {},
   "source": [
    " - Ideally, O(1) insertion, O(1) lookup. However, collisions!\n",
    " - Buckets are linked lists (separate chaining) -> O(1) insertion, O(n) lookup\n",
    " - Buckets are balanced binary search trees (AVL trees) -> O(log n) insertion, O(log n) lookup\n",
    " - Python dictionaries -> Avg(1) and O(n) for insertion, lookup, and deletion"
   ]
  },
  {
   "cell_type": "markdown",
   "id": "5c8e5cf2-5d35-4a56-bc59-0f43d25e8765",
   "metadata": {},
   "source": [
    "## Sort"
   ]
  },
  {
   "cell_type": "markdown",
   "id": "fef77fa8-17cf-4821-adcf-932d550605c6",
   "metadata": {},
   "source": [
    "#### O(nlogn)"
   ]
  },
  {
   "cell_type": "code",
   "execution_count": 10,
   "id": "30e6375c-0e34-4664-b1aa-4f7bc7c45602",
   "metadata": {},
   "outputs": [
    {
     "name": "stdout",
     "output_type": "stream",
     "text": [
      "[-1, -1, 0, 2, 4]\n",
      "[4, 2, 0, -1, -1]\n"
     ]
    }
   ],
   "source": [
    "a = [-1, 0, -1, 4, 2]\n",
    "a.sort()\n",
    "print(a)\n",
    "a.sort(reverse=True)\n",
    "print(a)"
   ]
  },
  {
   "cell_type": "code",
   "execution_count": 11,
   "id": "02d57d12-5f16-41d1-8d69-6b4bd81069c0",
   "metadata": {},
   "outputs": [
    {
     "name": "stdout",
     "output_type": "stream",
     "text": [
      "['Paris', 'London', 'Melbourne', 'Copenhagen']\n"
     ]
    }
   ],
   "source": [
    "def lengthKey(str):\n",
    "  return len(str)\n",
    "\n",
    "b = [\"London\", \"Paris\", \"Copenhagen\", \"Melbourne\"]\n",
    "b.sort(key=lengthKey)\n",
    "print(b)"
   ]
  },
  {
   "cell_type": "markdown",
   "id": "f0565af5-61f7-47d2-a2fc-3ae56b95a8ee",
   "metadata": {},
   "source": [
    "### Constructing a Trie (prefix tree)"
   ]
  },
  {
   "cell_type": "code",
   "execution_count": null,
   "id": "c2e3d153-cc40-4b10-b65a-01a41194d2b4",
   "metadata": {},
   "outputs": [],
   "source": [
    "class Solution:\n",
    "    def findWords(self, words):        \n",
    "        trie = {}\n",
    "        for word in words:\n",
    "            node = trie\n",
    "            for letter in word:\n",
    "                # retrieve the next node; If not found, create a empty node.\n",
    "                node = node.setdefault(letter, {})\n",
    "            # mark the existence of a word in trie node\n",
    "            node['$'] = word"
   ]
  },
  {
   "cell_type": "markdown",
   "id": "253210ed-fb79-4720-bb1f-7d55fca4e3de",
   "metadata": {},
   "source": [
    "## Backtracking Template"
   ]
  },
  {
   "cell_type": "code",
   "execution_count": 12,
   "id": "785425e8-0aef-4b72-b24d-5c27c559771d",
   "metadata": {},
   "outputs": [],
   "source": [
    "def backtrack(candidate):\n",
    "    if find_solution(candidate):\n",
    "        output(candidate)\n",
    "        return\n",
    "    \n",
    "    # iterate all possible candidates.\n",
    "    for next_candidate in list_of_candidates:\n",
    "        if is_valid(next_candidate):\n",
    "            # try this partial candidate solution\n",
    "            place(next_candidate)\n",
    "            # given the candidate, explore further.\n",
    "            backtrack(next_candidate)\n",
    "            # backtrack\n",
    "            remove(next_candidate)"
   ]
  },
  {
   "cell_type": "markdown",
   "id": "382f70d2-b44d-4251-b418-a44ac77e0822",
   "metadata": {},
   "source": [
    "# Graph Traversals"
   ]
  },
  {
   "cell_type": "code",
   "execution_count": 39,
   "id": "1ca4a99c-295e-42a1-9ebc-4e49be18bde5",
   "metadata": {},
   "outputs": [],
   "source": [
    "graph = {\n",
    "    'a': ['c', 'b'],\n",
    "    'b': ['d'],\n",
    "    'c': ['e'],\n",
    "    'd': ['f'],\n",
    "    'e': [],\n",
    "    'f': []\n",
    "}"
   ]
  },
  {
   "cell_type": "markdown",
   "id": "5df150b4-ad54-4faa-9933-c4e9f0b739cc",
   "metadata": {
    "tags": []
   },
   "source": [
    "## Depth First - Stack (or recursion)"
   ]
  },
  {
   "cell_type": "markdown",
   "id": "cc87296f-88f8-485e-a5a1-f85420680631",
   "metadata": {},
   "source": [
    "#### Could also use recursion"
   ]
  },
  {
   "cell_type": "code",
   "execution_count": 40,
   "id": "eed882bb-25cc-4dfc-9045-e42ed77610c6",
   "metadata": {},
   "outputs": [],
   "source": [
    "from collections import deque\n",
    "def depthFirstPrint(graph, source):\n",
    "    stack = deque(source)\n",
    "    while len(stack) > 0:\n",
    "        current = stack.pop()\n",
    "        print(current)\n",
    "        for neighbor in graph[current]:\n",
    "            stack.append(neighbor)"
   ]
  },
  {
   "cell_type": "code",
   "execution_count": 42,
   "id": "505121a9-52b1-408b-bc1f-5b578aeae749",
   "metadata": {},
   "outputs": [
    {
     "name": "stdout",
     "output_type": "stream",
     "text": [
      "a\n",
      "b\n",
      "d\n",
      "f\n",
      "c\n",
      "e\n"
     ]
    }
   ],
   "source": [
    "depthFirstPrint(graph, 'a')"
   ]
  },
  {
   "cell_type": "markdown",
   "id": "9578f742-cf6c-4449-bd13-ea7234d81035",
   "metadata": {},
   "source": [
    "## Breadth First - Queue"
   ]
  },
  {
   "cell_type": "code",
   "execution_count": 47,
   "id": "951cc580-4277-4159-b623-53b4e28d403c",
   "metadata": {},
   "outputs": [],
   "source": [
    "from collections import deque\n",
    "def breadthFirstPrint(graph, source):\n",
    "    queue = deque(source)\n",
    "    while len(queue) > 0:\n",
    "        current = queue.pop()\n",
    "        print(current)\n",
    "        for neighbor in graph[current]:\n",
    "            queue.appendleft(neighbor)"
   ]
  },
  {
   "cell_type": "code",
   "execution_count": 48,
   "id": "95167a17-e233-414f-96ab-fe3667f35c08",
   "metadata": {},
   "outputs": [
    {
     "name": "stdout",
     "output_type": "stream",
     "text": [
      "a\n",
      "c\n",
      "b\n",
      "e\n",
      "d\n",
      "f\n"
     ]
    }
   ],
   "source": [
    "breadthFirstPrint(graph, 'a')"
   ]
  }
 ],
 "metadata": {
  "kernelspec": {
   "display_name": "Python 3",
   "language": "python",
   "name": "python3"
  },
  "language_info": {
   "codemirror_mode": {
    "name": "ipython",
    "version": 3
   },
   "file_extension": ".py",
   "mimetype": "text/x-python",
   "name": "python",
   "nbconvert_exporter": "python",
   "pygments_lexer": "ipython3",
   "version": "3.6.3"
  }
 },
 "nbformat": 4,
 "nbformat_minor": 5
}
