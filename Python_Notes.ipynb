{
 "cells": [
  {
   "cell_type": "markdown",
   "id": "0a1e1a0b-751d-445e-896f-211aee630e38",
   "metadata": {},
   "source": [
    "# Todo"
   ]
  },
  {
   "cell_type": "markdown",
   "id": "f2f7c236-ca98-4ff2-b241-982ca2c235f2",
   "metadata": {},
   "source": [
    "- Watch recursion video and take notes\n",
    "- Rewatch dynamic programming video and take notes\n",
    "- Rewatch graph video and take notes\n",
    "- Link between index and common sections\n",
    "- Big O Notation\n",
    "- Divide-and-conquer\n",
    "- Greedy algorithms\n",
    "- Heaps\n",
    "- AVL trees\n",
    "- Dijkstra's Shortest path"
   ]
  },
  {
   "cell_type": "markdown",
   "id": "458147c3-040f-4b12-93a0-138897545e02",
   "metadata": {
    "jp-MarkdownHeadingCollapsed": true,
    "tags": []
   },
   "source": [
    "# Index <a class=\"anchor\" id=\"top\"></a>\n",
    "- [Deque](#deque)\n",
    "    - [Stack](#deque-stack)\n",
    "    - [Queue](#deque-queue)\n",
    "- [Hash Tables](#hash-tables)\n",
    "    - [Dictionaries (Hash Maps)](#hash-maps)\n",
    "    - [Sets (Hash Sets)](#hash-sets)\n",
    "    - [Complexity](#hash-tables-complexity)\n",
    "- [Sort](#sort)\n",
    "    - [Numbers](#sort-numbers)\n",
    "    - [Custom](#sort-custom)\n",
    "- [Prefix Trees (trie)](#prefix-trees)\n",
    "    - [Construct](#prefix-trees-construct)\n",
    "    - [Complexity](#prefix-trees-construct)\n",
    "- [Binary Trees](#binary-trees)\n",
    "    - [Traversals Overview](#binary-tree-traversals)\n",
    "    - [DFS Iterative (preorder only)](#binary-trees-dfs-iterative)\n",
    "    - [DFS Recursive (preorder, inorder, and postorder)](#binary-trees-dfs-recursive)\n",
    "    - [BFS Iterative (level order)](#binary-trees-bfs-iterative)\n",
    "    - [Binary Search a List](#binary-search-a-list)\n",
    "- [Recursion](#recursion)\n",
    "- [Backtracking](#backtracking)\n",
    "    - [Template](#backtracking-template)\n",
    "- [Dynamic Programming](#dynamic-programming)\n",
    "- [Graphs](#graphs)\n",
    "    - [Directed](#directed-graphs)\n",
    "        - [DFS with Stack](#directed-graphs-dfs)\n",
    "        - [BFS with Queue](#directed-graphs-bfs)\n",
    "    - [Undirected](#undirected-graphs)\n",
    "        - [Build Graph](#undirected-graphs-build-graph)\n",
    "\n",
    "## Common Problems <a class=\"anchor\" id=\"top-common\"></a>\n",
    "- [Binary Trees](#common-binary-trees)\n",
    "    - [Max Root To Leaf Path Sum](#common-binary-tree-max-root-to-leaf-path-sum)\n",
    "    - [Max Path Sum](#common-binary-tree-max-path-sum)\n",
    "- [Recursion](#common-recursion)\n",
    "    - [Reverse String](#common-reverse-string)\n",
    "    - [Palindrome](#common-palindrome)\n",
    "    - [Decimal to Binary](#common-decimal-to-binary)\n",
    "- [Backtracking](#common-backtracking)\n",
    "    - [N-Queens](#common-n-queens)\n",
    "    - [Sudoku](#common-sudoku)\n",
    "- [Graphs](#common-graphs)\n",
    "    - [Has Path](#common-has-path)\n",
    "    - [Connected Component Count](#common-connected-component-count)\n",
    "    - [Max Component](#common-max-component)\n",
    "    - [Shortest Path (BFS)](#common-shortest-path)\n",
    "    - [Island Count](#common-island-count)\n",
    "    - [Topological Sort](#common-topological-sort)"
   ]
  },
  {
   "cell_type": "markdown",
   "id": "b4229a0a-955c-4580-9d9c-0c69201eaa55",
   "metadata": {
    "tags": []
   },
   "source": [
    "# Deque [**^^^**](#top) <a class=\"anchor\" id=\"deque\"></a>¶"
   ]
  },
  {
   "cell_type": "code",
   "execution_count": 1,
   "id": "dc26cc0b-f5d8-4261-b877-5d442fffef56",
   "metadata": {},
   "outputs": [],
   "source": [
    "from collections import deque # Pronounced \"deck\", means \"double-ended queue\""
   ]
  },
  {
   "cell_type": "markdown",
   "id": "55979f09-6536-4476-9a9f-952cb6eddbee",
   "metadata": {},
   "source": [
    "### Stack [**^^^**](#top) <a class=\"anchor\" id=\"deque-stack\"></a>¶"
   ]
  },
  {
   "cell_type": "code",
   "execution_count": 2,
   "id": "c370135b-7418-4ffa-a237-d9861814515f",
   "metadata": {},
   "outputs": [
    {
     "data": {
      "text/plain": [
       "'a'"
      ]
     },
     "execution_count": 2,
     "metadata": {},
     "output_type": "execute_result"
    }
   ],
   "source": [
    "stack = deque()\n",
    "stack.appendleft('a') # push()\n",
    "stack.popleft()       # pop()"
   ]
  },
  {
   "cell_type": "markdown",
   "id": "bce0820c-41ba-4824-b7cc-8b4390176478",
   "metadata": {},
   "source": [
    "### Queue [**^^^**](#top) <a class=\"anchor\" id=\"deque-queue\"></a>"
   ]
  },
  {
   "cell_type": "code",
   "execution_count": 3,
   "id": "dd30713f-403c-4c7f-b04a-d6e4b614a1d7",
   "metadata": {},
   "outputs": [
    {
     "data": {
      "text/plain": [
       "'b'"
      ]
     },
     "execution_count": 3,
     "metadata": {},
     "output_type": "execute_result"
    }
   ],
   "source": [
    "queue = deque()\n",
    "queue.append('b') # enqueue()\n",
    "queue.popleft()   # dequeue()"
   ]
  },
  {
   "cell_type": "markdown",
   "id": "d4f690a8-cc3a-4f11-a58e-388ec1ca5587",
   "metadata": {
    "tags": []
   },
   "source": [
    "# Hash Tables [**^^^**](#top) <a class=\"anchor\" id=\"hash-tables\"></a>¶"
   ]
  },
  {
   "cell_type": "markdown",
   "id": "8c6f27bd-295d-4910-93b6-a3bafb96d619",
   "metadata": {},
   "source": [
    "### Dictionaries (Hash Maps) [**^^^**](#top) <a class=\"anchor\" id=\"hash-maps\"></a>¶"
   ]
  },
  {
   "cell_type": "code",
   "execution_count": 4,
   "id": "dd25e8cc-8578-43c0-a942-81e8056224c2",
   "metadata": {},
   "outputs": [],
   "source": [
    "a = {}\n",
    "a['key'] = 'value'\n",
    "del a['key']"
   ]
  },
  {
   "cell_type": "markdown",
   "id": "28de09bc-30c5-4a45-bd5b-df1c04bf8cfa",
   "metadata": {
    "tags": []
   },
   "source": [
    "### Sets (Hash Sets) [**^^^**](#top) <a class=\"anchor\" id=\"hash-sets\"></a>¶"
   ]
  },
  {
   "cell_type": "code",
   "execution_count": 5,
   "id": "21fc870e-5168-49a2-a6d9-3b4c9d2b2a8f",
   "metadata": {},
   "outputs": [],
   "source": [
    "a = set()\n",
    "a.add('item')\n",
    "a.remove('item')\n",
    "a.discard('another')"
   ]
  },
  {
   "cell_type": "markdown",
   "id": "b19f9a56-d8f5-4a92-a470-13e9796b3572",
   "metadata": {},
   "source": [
    "### Complexity [**^^^**](#top) <a class=\"anchor\" id=\"hash-tables-complexity\"></a>¶"
   ]
  },
  {
   "cell_type": "markdown",
   "id": "af17f354-a7c4-4dd1-81b4-4ea800563f0b",
   "metadata": {},
   "source": [
    " - Ideally, O(1) insertion, O(1) lookup. However, collisions!\n",
    " - Buckets are linked lists (separate chaining) -> O(1) insertion, O(n) lookup\n",
    " - Buckets are balanced binary search trees (AVL trees) -> O(log n) insertion, O(log n) lookup\n",
    " - Python dictionaries -> Avg(1) and O(n) for insertion, lookup, and deletion"
   ]
  },
  {
   "cell_type": "markdown",
   "id": "5c8e5cf2-5d35-4a56-bc59-0f43d25e8765",
   "metadata": {
    "tags": []
   },
   "source": [
    "# Sort [**^^^**](#top) <a class=\"anchor\" id=\"sort\"></a>¶"
   ]
  },
  {
   "cell_type": "markdown",
   "id": "630d423e-6a84-4dea-84ba-efbd161a3e59",
   "metadata": {},
   "source": [
    "**O(nlogn)**"
   ]
  },
  {
   "cell_type": "markdown",
   "id": "b824cd73-845e-4fc6-a3ec-93d89d1e6d06",
   "metadata": {},
   "source": [
    "### Numbers [**^^^**](#top) <a class=\"anchor\" id=\"sort-numbers\"></a>¶"
   ]
  },
  {
   "cell_type": "code",
   "execution_count": 6,
   "id": "4534fde8-69ec-4f5f-9622-7afabadad388",
   "metadata": {},
   "outputs": [],
   "source": [
    "a = [-1, 0, -1, 4, 2]\n",
    "a.sort()\n",
    "a.sort(reverse=True)"
   ]
  },
  {
   "cell_type": "markdown",
   "id": "a194967b-4212-4119-aeb4-bf11b33082cc",
   "metadata": {},
   "source": [
    "### Custom [**^^^**](#top) <a class=\"anchor\" id=\"sort-custom\"></a>¶"
   ]
  },
  {
   "cell_type": "code",
   "execution_count": 7,
   "id": "02d57d12-5f16-41d1-8d69-6b4bd81069c0",
   "metadata": {},
   "outputs": [
    {
     "name": "stdout",
     "output_type": "stream",
     "text": [
      "['Paris', 'London', 'Melbourne', 'Copenhagen']\n"
     ]
    }
   ],
   "source": [
    "def lengthKey(str):\n",
    "  return len(str)\n",
    "\n",
    "b = [\"London\", \"Paris\", \"Copenhagen\", \"Melbourne\"]\n",
    "b.sort(key=lengthKey)\n",
    "print(b)"
   ]
  },
  {
   "cell_type": "markdown",
   "id": "c122ec80-a994-4b8a-9496-32f334957b63",
   "metadata": {},
   "source": [
    "# Prefix Trees (tries) [**^^^**](#top) <a class=\"anchor\" id=\"prefix-trees\"></a>"
   ]
  },
  {
   "cell_type": "markdown",
   "id": "76c2b310-0689-45f7-acbd-147b1e479b37",
   "metadata": {},
   "source": [
    "### Construct [**^^^**](#top) <a class=\"anchor\" id=\"prefix-trees-construct\"></a>¶"
   ]
  },
  {
   "cell_type": "code",
   "execution_count": 8,
   "id": "e0e7cb16-7147-4055-a79b-a1f514ed764c",
   "metadata": {},
   "outputs": [],
   "source": [
    "class Solution:\n",
    "    def findWords(self, words):        \n",
    "        trie = {}\n",
    "        for word in words:\n",
    "            node = trie\n",
    "            for letter in word:\n",
    "                # retrieve the next node; If not found, create a empty node.\n",
    "                node = node.setdefault(letter, {})\n",
    "            # mark the existence of a word in trie node\n",
    "            node['$'] = word"
   ]
  },
  {
   "cell_type": "markdown",
   "id": "9c0a3f44-0836-4814-9a53-e3f251a242cb",
   "metadata": {},
   "source": [
    "### Complexity [**^^^**](#top) <a class=\"anchor\" id=\"prefix-trees-complexity\"></a>¶"
   ]
  },
  {
   "cell_type": "markdown",
   "id": "c0570e91-01ad-4506-baf7-0e494ded7054",
   "metadata": {},
   "source": [
    "Big O: For N words and M max length string\n",
    " - Search/Insert:\n",
    "     - O(M) time\n",
    "     - O(1) memory\n",
    " - Construct:\n",
    "     - O(N * L) time (L is average word length)\n",
    "     - O(Alphabet size * M * N) memory"
   ]
  },
  {
   "cell_type": "markdown",
   "id": "a923bfdf-6c1e-485b-b85b-bab28e0ac2bb",
   "metadata": {
    "tags": []
   },
   "source": [
    "# Binary Trees [**^^^**](#top) <a class=\"anchor\" id=\"binary-trees\"></a>"
   ]
  },
  {
   "cell_type": "markdown",
   "id": "e7ddfddb-4a46-47e0-960c-7d42462df7e8",
   "metadata": {},
   "source": [
    "**Criteria:** At most 2 children per node, exactly 1 root, and exactly 1 path between root and any node"
   ]
  },
  {
   "cell_type": "code",
   "execution_count": 9,
   "id": "e42d0294-92b0-4b3c-b9da-a17e02e038c0",
   "metadata": {},
   "outputs": [],
   "source": [
    "class Node:\n",
    "    def __init__(self, val, left=None, right=None):\n",
    "        self.left = left\n",
    "        self.right = right\n",
    "        self.val = val"
   ]
  },
  {
   "cell_type": "code",
   "execution_count": 10,
   "id": "b9bd7644-76f8-485d-ab52-1bb2204b5a91",
   "metadata": {},
   "outputs": [],
   "source": [
    "a, b, c, d, e, f = Node('A'), Node('B'), Node('C'), Node('D'), Node('E'), Node('F')\n",
    "a.left, a.right, b.left, b.right, c.right = b, c, d, e, f"
   ]
  },
  {
   "cell_type": "markdown",
   "id": "3953e0f6-d43e-410c-ace6-eb0bebb3a19d",
   "metadata": {},
   "source": [
    "### Traversals Overview [**^^^**](#top) <a class=\"anchor\" id=\"binary-tree-traversals\"></a>"
   ]
  },
  {
   "attachments": {
    "b8f02a63-11c7-4af6-a83f-ac80ce007a25.png": {
     "image/png": "[encoded data removed]"
    }
   },
   "cell_type": "markdown",
   "id": "d6edf5cc-4b1f-4f04-9c8c-90e99e9481d0",
   "metadata": {},
   "source": [
    "![binary-tree.png](attachment:b8f02a63-11c7-4af6-a83f-ac80ce007a25.png)"
   ]
  },
  {
   "cell_type": "markdown",
   "id": "91062bbb-632a-495a-8eba-beea64d31b74",
   "metadata": {
    "tags": []
   },
   "source": [
    "- **DFS Preorder** (root, left, right): A, B, D, E, C, F\n",
    "- **DFS Inorder** (left, root, right): D, B, E, A, C, F\n",
    "- **DFS Postorder** (left, right, root): D, E, B, F, C, A\n",
    "- **BFS Level-order**: A, B, C, D, E, F"
   ]
  },
  {
   "cell_type": "markdown",
   "id": "596c8708-10b2-424a-90a2-5961e447c5ed",
   "metadata": {},
   "source": [
    "### **DFS Iterative** (preorder only) [**^^^**](#top) <a class=\"anchor\" id=\"binary-trees-dfs-iterative\"></a>"
   ]
  },
  {
   "cell_type": "code",
   "execution_count": 11,
   "id": "c274d589-9541-49ff-8052-216ded75fa5c",
   "metadata": {},
   "outputs": [],
   "source": [
    "from collections import deque\n",
    "def IterativeBinaryTreePreOrderDFS(root):\n",
    "    stack = deque()\n",
    "    stack.append(root)\n",
    "    res = []\n",
    "    while len(stack) > 0:\n",
    "        current = stack.pop()\n",
    "        res.append(current.val)\n",
    "        if current.right: stack.append(current.right)\n",
    "        if current.left: stack.append(current.left)\n",
    "    return res"
   ]
  },
  {
   "cell_type": "code",
   "execution_count": 12,
   "id": "a3f2b072-40c7-401b-a46f-9ad15d3d11ce",
   "metadata": {},
   "outputs": [
    {
     "name": "stdout",
     "output_type": "stream",
     "text": [
      "Preorder: A B D E C F\n"
     ]
    }
   ],
   "source": [
    "print('Preorder:', ' '.join(IterativeBinaryTreePreOrderDFS(a)))"
   ]
  },
  {
   "cell_type": "markdown",
   "id": "2d0751f0-7103-450c-b3c6-5a2ce6eb255e",
   "metadata": {},
   "source": [
    "### **DFS Recursive** (preorder, inorder, and postorder) [**^^^**](#top) <a class=\"anchor\" id=\"binary-trees-dfs-recursive\"></a>"
   ]
  },
  {
   "cell_type": "code",
   "execution_count": 13,
   "id": "34d42017-82f1-4578-935f-384c2642a5d8",
   "metadata": {},
   "outputs": [],
   "source": [
    "def RecursiveBinaryTreeDFS(root, order='preorder'):\n",
    "    if root is None: return []\n",
    "    left = RecursiveBinaryTreeDFS(root.left, order)\n",
    "    right = RecursiveBinaryTreeDFS(root.right, order)\n",
    "    if order == 'preorder': return [root.val] + left + right\n",
    "    if order == 'inorder': return left + [root.val] + right\n",
    "    if order == 'postorder': return left + right + [root.val]"
   ]
  },
  {
   "cell_type": "code",
   "execution_count": 14,
   "id": "7af56318-45dd-4c25-afdf-4d996c2e0b67",
   "metadata": {
    "tags": []
   },
   "outputs": [
    {
     "name": "stdout",
     "output_type": "stream",
     "text": [
      "Preorder: A B D E C F\n",
      "Inorder: D B E A C F\n",
      "Postorder: D E B F C A\n"
     ]
    }
   ],
   "source": [
    "print('Preorder:', ' '.join(RecursiveBinaryTreeDFS(a, order='preorder')))\n",
    "print('Inorder:', ' '.join(RecursiveBinaryTreeDFS(a, order='inorder')))\n",
    "print('Postorder:', ' '.join(RecursiveBinaryTreeDFS(a, order='postorder')))"
   ]
  },
  {
   "cell_type": "markdown",
   "id": "ba81e970-b5e9-4723-b668-4fb552f9a911",
   "metadata": {},
   "source": [
    "### **BFS Iterative** (level order) [**^^^**](#top) <a class=\"anchor\" id=\"binary-trees-bfs-iterative\"></a>"
   ]
  },
  {
   "cell_type": "code",
   "execution_count": 15,
   "id": "eea40b86-2d25-4be4-a42d-096109fb41b7",
   "metadata": {},
   "outputs": [],
   "source": [
    "from collections import deque\n",
    "def breadthFirstPrint(root):\n",
    "    queue = deque()\n",
    "    queue.append(root)\n",
    "    res = []\n",
    "    while len(queue) > 0:\n",
    "        current = queue.pop()\n",
    "        res.append(current.val)\n",
    "        if current.left: queue.appendleft(current.left)\n",
    "        if current.right: queue.appendleft(current.right)\n",
    "    return res"
   ]
  },
  {
   "cell_type": "code",
   "execution_count": 16,
   "id": "6f882064-b197-462f-aae5-c4d0a32bdb07",
   "metadata": {},
   "outputs": [
    {
     "name": "stdout",
     "output_type": "stream",
     "text": [
      "Iterative Preorder: A B C D E F\n"
     ]
    }
   ],
   "source": [
    "print('Iterative Preorder:', ' '.join(breadthFirstPrint(a)))"
   ]
  },
  {
   "cell_type": "markdown",
   "id": "f588d9bc-8658-41cd-820b-d1b7922a877c",
   "metadata": {},
   "source": [
    "### Binary Search a List [**^^^**](#top) <a class=\"anchor\" id=\"binary-search-a-list\"></a>¶"
   ]
  },
  {
   "cell_type": "code",
   "execution_count": 17,
   "id": "f8e08ea3-726c-4d5d-8cbc-1ec743e6cfd5",
   "metadata": {},
   "outputs": [],
   "source": [
    "l = [1, 3, 5, 9, 11, 17, 22, 24, 31, 47, 55]"
   ]
  },
  {
   "cell_type": "code",
   "execution_count": 18,
   "id": "76357207-4f85-4a21-94f3-1403414938b7",
   "metadata": {},
   "outputs": [],
   "source": [
    "def find_index(target):\n",
    "    left, right = 0, len(l)\n",
    "    while left < right:\n",
    "        middle = (left + right) // 2\n",
    "        if l[middle] == target:\n",
    "            return middle\n",
    "        elif target < l[middle]:\n",
    "            right = middle\n",
    "        else:\n",
    "            left = middle + 1\n",
    "    return -1"
   ]
  },
  {
   "cell_type": "code",
   "execution_count": 19,
   "id": "82578796-b4d4-4265-aff4-701dcddd95dc",
   "metadata": {},
   "outputs": [
    {
     "data": {
      "text/plain": [
       "2"
      ]
     },
     "execution_count": 19,
     "metadata": {},
     "output_type": "execute_result"
    }
   ],
   "source": [
    "find_index(5)"
   ]
  },
  {
   "cell_type": "markdown",
   "id": "908d7806-0396-44cc-a65f-52d0d6fa9219",
   "metadata": {},
   "source": [
    "# Recursion [**^^^**](#top) <a class=\"anchor\" id=\"recursion\"></a>"
   ]
  },
  {
   "cell_type": "code",
   "execution_count": null,
   "id": "774134c8-c683-42b6-af1f-b06ae8b9c771",
   "metadata": {},
   "outputs": [],
   "source": []
  },
  {
   "cell_type": "markdown",
   "id": "ad04c84e-7285-4e55-bd2d-2fbe3e67dd95",
   "metadata": {
    "tags": []
   },
   "source": [
    "# Backtracking [**^^^**](#top) <a class=\"anchor\" id=\"backtracking\"></a>"
   ]
  },
  {
   "cell_type": "markdown",
   "id": "2872d42d-202e-4ef3-afbe-19fd0be377d3",
   "metadata": {},
   "source": [
    "### **Template** [**^^^**](#top) <a class=\"anchor\" id=\"backtracking-template\"></a>"
   ]
  },
  {
   "cell_type": "code",
   "execution_count": 20,
   "id": "54d9f620-012d-46e5-a0ca-964bd3167caa",
   "metadata": {},
   "outputs": [],
   "source": [
    "def is_solution(state):\n",
    "    # check if the state is a valid solution\n",
    "    return True\n",
    "\n",
    "def get_candidates(state):\n",
    "    return []\n",
    "\n",
    "def search(state, solutions):\n",
    "    if is_solution(state):\n",
    "        solutions.append(state.copy())\n",
    "        # return\n",
    "    \n",
    "    for candidate in get_candidates(state):\n",
    "        state.add(candidate)\n",
    "        search(state, solutions)\n",
    "        state.remove(candidate)\n",
    "\n",
    "def solve():\n",
    "    solutions = []\n",
    "    state = set()\n",
    "    search(state, solutions)\n",
    "    return solutions"
   ]
  },
  {
   "cell_type": "markdown",
   "id": "8e81df25-f9c5-46f2-9883-b6fd7f6e62d6",
   "metadata": {},
   "source": [
    "# Dynamic Programming [**^^^**](#top) <a class=\"anchor\" id=\"dynamic-programming\"></a>"
   ]
  },
  {
   "cell_type": "markdown",
   "id": "5065f112-3fa7-484a-819a-fac8027d40ee",
   "metadata": {},
   "source": [
    "# Graphs [**^^^**](#top) <a class=\"anchor\" id=\"graphs\"></a>"
   ]
  },
  {
   "cell_type": "markdown",
   "id": "e5241b5a-ea49-4021-bc10-d1da9d4ef683",
   "metadata": {},
   "source": [
    "## **Directed Graphs** [**^^^**](#top) <a class=\"anchor\" id=\"directed-graphs\"></a>"
   ]
  },
  {
   "cell_type": "markdown",
   "id": "fca2f217-3f5a-4acb-836a-04a17350f0d2",
   "metadata": {},
   "source": [
    "### DFS with Stack [**^^^**](#top) <a class=\"anchor\" id=\"directed-graphs-dfs\"></a>"
   ]
  },
  {
   "cell_type": "code",
   "execution_count": 21,
   "id": "5f2226fc-4df4-4594-8fa8-90281bf976dc",
   "metadata": {},
   "outputs": [],
   "source": [
    "graph = {\n",
    "    'a': ['c', 'b'],\n",
    "    'b': ['d'],\n",
    "    'c': ['e'],\n",
    "    'd': ['f'],\n",
    "    'e': [],\n",
    "    'f': []\n",
    "}"
   ]
  },
  {
   "cell_type": "code",
   "execution_count": 22,
   "id": "06ef9315-2035-445a-98e9-97bcfd1d1e20",
   "metadata": {},
   "outputs": [],
   "source": [
    "from collections import deque\n",
    "def depthFirstPrint(graph, source):\n",
    "    stack = deque(source)\n",
    "    visited = set()\n",
    "    visited.add(source)\n",
    "    result = []\n",
    "    while len(stack) > 0:\n",
    "        current = stack.pop()\n",
    "        result.append(current)\n",
    "        for neighbor in graph[current]:\n",
    "            if not neighbor in visited:\n",
    "                visited.add(neighbor)\n",
    "                stack.append(neighbor)\n",
    "    return result"
   ]
  },
  {
   "cell_type": "code",
   "execution_count": 23,
   "id": "665eac3d-a136-4bcb-b914-eab3faa892fc",
   "metadata": {},
   "outputs": [
    {
     "data": {
      "text/plain": [
       "['a', 'b', 'd', 'f', 'c', 'e']"
      ]
     },
     "execution_count": 23,
     "metadata": {},
     "output_type": "execute_result"
    }
   ],
   "source": [
    "depthFirstPrint(graph, 'a')"
   ]
  },
  {
   "cell_type": "markdown",
   "id": "1e9ad53d-5b02-4ec9-961b-d9cb6ef7a5c5",
   "metadata": {},
   "source": [
    "### BFS with Queue [**^^^**](#top) <a class=\"anchor\" id=\"directed-graphs-bfs\"></a>"
   ]
  },
  {
   "cell_type": "code",
   "execution_count": 24,
   "id": "c8a38686-27d9-4586-8efc-615acccbca92",
   "metadata": {},
   "outputs": [],
   "source": [
    "graph = {\n",
    "    'a': ['c', 'b'],\n",
    "    'b': ['d'],\n",
    "    'c': ['e'],\n",
    "    'd': ['f'],\n",
    "    'e': [],\n",
    "    'f': []\n",
    "}"
   ]
  },
  {
   "cell_type": "code",
   "execution_count": 25,
   "id": "3a83eb53-3816-4b40-80ff-cb4c4ddb17e4",
   "metadata": {},
   "outputs": [],
   "source": [
    "from collections import deque\n",
    "def breadthFirstPrint(graph, source):\n",
    "    queue = deque(source)\n",
    "    visited = set()\n",
    "    visited.add(source)\n",
    "    result = []\n",
    "    while len(queue) > 0:\n",
    "        current = queue.pop()\n",
    "        result.append(current)\n",
    "        for neighbor in graph[current]:\n",
    "            if not neighbor in visited:\n",
    "                visited.add(neighbor)\n",
    "                queue.appendleft(neighbor)\n",
    "    return result"
   ]
  },
  {
   "cell_type": "code",
   "execution_count": 26,
   "id": "b46360ed-f64e-40d4-8e48-f042acbf7a80",
   "metadata": {},
   "outputs": [
    {
     "data": {
      "text/plain": [
       "['a', 'c', 'b', 'e', 'd', 'f']"
      ]
     },
     "execution_count": 26,
     "metadata": {},
     "output_type": "execute_result"
    }
   ],
   "source": [
    "breadthFirstPrint(graph, 'a')"
   ]
  },
  {
   "cell_type": "markdown",
   "id": "7baacb10-11c8-4cad-b9a7-45eef02441e1",
   "metadata": {},
   "source": [
    "## **Undirected Graphs** [**^^^**](#top) <a class=\"anchor\" id=\"undirected-graphs\"></a>"
   ]
  },
  {
   "cell_type": "markdown",
   "id": "0cc4ae63-02db-491c-8821-493a267f5e57",
   "metadata": {
    "tags": []
   },
   "source": [
    "### Build Graph [**^^^**](#top) <a class=\"anchor\" id=\"undirected-graphs-build-graph\"></a>"
   ]
  },
  {
   "cell_type": "code",
   "execution_count": 27,
   "id": "0f4ce6e7-0132-4a40-a980-c9fc821e98ff",
   "metadata": {},
   "outputs": [],
   "source": [
    "edges = [\n",
    "    ['i', 'j'],\n",
    "    ['k', 'i'],\n",
    "    ['m', 'k'],\n",
    "    ['k', 'l'],\n",
    "    ['o', 'n']\n",
    "]"
   ]
  },
  {
   "cell_type": "code",
   "execution_count": 28,
   "id": "cb2878a1-9c45-4938-880c-6d5d8a0b9248",
   "metadata": {},
   "outputs": [],
   "source": [
    "def buildGraph(edges):\n",
    "    graph = {}\n",
    "    for edge in edges:\n",
    "        [a, b] = edge\n",
    "        if not a in graph:\n",
    "            graph[a] = []\n",
    "        if not b in graph:\n",
    "            graph[b] = []\n",
    "        graph[a].append(b)\n",
    "        graph[b].append(a)\n",
    "    return graph"
   ]
  },
  {
   "cell_type": "code",
   "execution_count": 29,
   "id": "a7ca0634-2090-469a-b3a5-0365a738aa1f",
   "metadata": {},
   "outputs": [],
   "source": [
    "graph = buildGraph(edges)"
   ]
  },
  {
   "cell_type": "markdown",
   "id": "ec33b99c-d83b-4654-a5a3-021c664d2601",
   "metadata": {},
   "source": [
    "# Common Problems [**^^^**](#top-common)"
   ]
  },
  {
   "cell_type": "markdown",
   "id": "a9677076-8e64-45d3-8042-59b8547ba8b2",
   "metadata": {
    "tags": []
   },
   "source": [
    "# Binary Trees [**^^^**](#top-common) <a class=\"anchor\" id=\"common-binary-trees\"></a>"
   ]
  },
  {
   "attachments": {
    "f36a121c-b780-42d1-a966-513b3f6d7ad0.png": {
     "image/png": "[encoded data removed]"
    }
   },
   "cell_type": "markdown",
   "id": "16491206-bb6d-4b8f-b3b0-44644150f5f6",
   "metadata": {},
   "source": [
    "![binary-tree.png](attachment:f36a121c-b780-42d1-a966-513b3f6d7ad0.png)"
   ]
  },
  {
   "cell_type": "code",
   "execution_count": 30,
   "id": "b26b467c-cadf-44f3-8135-d0ed607a7fe8",
   "metadata": {},
   "outputs": [],
   "source": [
    "class Node:\n",
    "    def __init__(self, val, left=None, right=None):\n",
    "        self.left = left\n",
    "        self.right = right\n",
    "        self.val = val"
   ]
  },
  {
   "cell_type": "code",
   "execution_count": 31,
   "id": "1b214699-301b-43f7-8fde-194a4d1e8508",
   "metadata": {},
   "outputs": [],
   "source": [
    "an, bn, cn, dn, en, fn = Node(-20), Node(5), Node(6), Node(50), Node(25), Node(50)\n",
    "an.left, an.right, bn.left, bn.right, cn.right = bn, cn, dn, en, fn"
   ]
  },
  {
   "cell_type": "markdown",
   "id": "e2b9b54c-a731-45c6-be41-3b41f21764f8",
   "metadata": {
    "tags": []
   },
   "source": [
    "### Max Root to Leaf Path Sum [**^^^**](#top-common) <a class=\"anchor\" id=\"common-binary-tree-max-root-to-leaf-path-sum\"></a>"
   ]
  },
  {
   "cell_type": "markdown",
   "id": "52619947-dab0-4b1b-8172-dc1ba1930167",
   "metadata": {},
   "source": [
    "- Recursive DFS\n",
    "- Base case: No children -> return 0\n",
    "- Decision: Current value + max(left value, right value)"
   ]
  },
  {
   "cell_type": "code",
   "execution_count": 32,
   "id": "b17ffc87-24e2-457d-a8fc-740ee1f90c86",
   "metadata": {},
   "outputs": [],
   "source": [
    "def maxRootToLeafPathSumOfBinaryTree(root):\n",
    "    left_max = maxRootToLeafPathSumOfBinaryTree(root.left) if root.left else 0\n",
    "    right_max = maxRootToLeafPathSumOfBinaryTree(root.right) if root.right else 0\n",
    "    return root.val + max(left_max, right_max)"
   ]
  },
  {
   "cell_type": "code",
   "execution_count": 33,
   "id": "3dd68d9c-1c73-40f1-844d-f748f2fba395",
   "metadata": {},
   "outputs": [
    {
     "data": {
      "text/plain": [
       "36"
      ]
     },
     "execution_count": 33,
     "metadata": {},
     "output_type": "execute_result"
    }
   ],
   "source": [
    "maxRootToLeafPathSumOfBinaryTree(an)"
   ]
  },
  {
   "cell_type": "markdown",
   "id": "b3ced83a-45c6-4289-95da-dfb84adb0834",
   "metadata": {
    "tags": []
   },
   "source": [
    "### Max Path Sum [**^^^**](#top-common) <a class=\"anchor\" id=\"common-binary-tree-max-path-sum\"></a>"
   ]
  },
  {
   "cell_type": "markdown",
   "id": "777e4367-2e30-4e0e-98ad-ccda25923d65",
   "metadata": {},
   "source": [
    "- Recursive DFS\n",
    "- Track both \"line max\" and \"global max\"\n",
    "- Base case: No children -> return 0 for line max and 0 for global max\n",
    "- Line max decision: max(left_line_max + root, right_line_max + root, root)\n",
    "- Global max decision: max(left_global_max, right_global_max, left_line_max + right_line_max + root) "
   ]
  },
  {
   "cell_type": "code",
   "execution_count": 34,
   "id": "640cf6b0-b345-4dce-9224-e87093e8154d",
   "metadata": {},
   "outputs": [],
   "source": [
    "def maxPathSumOfBinaryTree(root):\n",
    "    left_max, left_global_max = 0, 0\n",
    "    right_max, right_global_max = 0, 0 \n",
    "    if root.left:\n",
    "        left_max, left_global_max = maxPathSumOfBinaryTree(root.left)\n",
    "    if root.right:\n",
    "        right_max, right_global_max = maxPathSumOfBinaryTree(root.right)\n",
    "    line_max = max(left_max + root.val, right_max + root.val, root.val)\n",
    "    global_max = max(left_global_max, right_global_max, left_max + right_max + root.val)\n",
    "    return line_max, global_max"
   ]
  },
  {
   "cell_type": "code",
   "execution_count": 35,
   "id": "3dbb1c20-816a-47dd-b7e9-6ff1845912f8",
   "metadata": {},
   "outputs": [
    {
     "data": {
      "text/plain": [
       "91"
      ]
     },
     "execution_count": 35,
     "metadata": {},
     "output_type": "execute_result"
    }
   ],
   "source": [
    "line_max, global_max = maxPathSumOfBinaryTree(an)\n",
    "max(line_max, global_max)"
   ]
  },
  {
   "cell_type": "markdown",
   "id": "951a43a5-3922-441d-95d4-ccabc4fdc9e4",
   "metadata": {
    "tags": []
   },
   "source": [
    "# Recursion [**^^^**](#top-common) <a class=\"anchor\" id=\"common-recursion\"></a>"
   ]
  },
  {
   "cell_type": "markdown",
   "id": "17a7e875-00d8-4970-8442-e6b1dc8eceda",
   "metadata": {
    "tags": []
   },
   "source": [
    "### Reverse String [**^^^**](#top-common) <a class=\"anchor\" id=\"common-reverse-string\"></a>"
   ]
  },
  {
   "cell_type": "code",
   "execution_count": 36,
   "id": "ec4efbef-9723-4c9f-acb2-0583440f16f5",
   "metadata": {},
   "outputs": [],
   "source": [
    "def reverseString(s):\n",
    "    if s == \"\":\n",
    "        return \"\"\n",
    "    return reverseString(s[1:]) + s[0]"
   ]
  },
  {
   "cell_type": "code",
   "execution_count": 37,
   "id": "07eccd63-d290-4775-9b52-4a2366eb08cd",
   "metadata": {},
   "outputs": [
    {
     "data": {
      "text/plain": [
       "'eM esreveR esaelP'"
      ]
     },
     "execution_count": 37,
     "metadata": {},
     "output_type": "execute_result"
    }
   ],
   "source": [
    "reverseString(\"Please Reverse Me\")"
   ]
  },
  {
   "cell_type": "markdown",
   "id": "3582c698-1865-4717-9f72-f04a04d59ed9",
   "metadata": {},
   "source": [
    "### Palindrome [**^^^**](#top-common) <a class=\"anchor\" id=\"common-palindrome\"></a>"
   ]
  },
  {
   "cell_type": "code",
   "execution_count": 38,
   "id": "8a1577f5-bf98-41bd-9496-86b20eb48b0c",
   "metadata": {},
   "outputs": [],
   "source": [
    "def palindrome(s):\n",
    "    if len(s) <= 1:\n",
    "        return True\n",
    "    if s[0] == s[len(s)-1]:\n",
    "        return palindrome(s[1:len(s)-1])\n",
    "    return False"
   ]
  },
  {
   "cell_type": "code",
   "execution_count": 39,
   "id": "50cfdd14-f965-43f5-8f1b-e52c7b14d123",
   "metadata": {},
   "outputs": [
    {
     "data": {
      "text/plain": [
       "True"
      ]
     },
     "execution_count": 39,
     "metadata": {},
     "output_type": "execute_result"
    }
   ],
   "source": [
    "palindrome(\"racecar\")"
   ]
  },
  {
   "cell_type": "markdown",
   "id": "165f6069-da7d-476d-8239-c622b2a9f204",
   "metadata": {},
   "source": [
    "### Decimal to Binary [**^^^**](#top-common) <a class=\"anchor\" id=\"common-decimal-to-binary\"></a>"
   ]
  },
  {
   "cell_type": "markdown",
   "id": "ea63e5f0-2ce3-4adb-928a-644d2da42253",
   "metadata": {},
   "source": [
    "- Recursively floor divide by 2\n",
    "- Base case: number is 0 -> return \"\"\n",
    "- Prepend remainder to result at each step"
   ]
  },
  {
   "cell_type": "code",
   "execution_count": 40,
   "id": "68e94db2-d322-41bd-9008-5b1003d076f2",
   "metadata": {},
   "outputs": [],
   "source": [
    "def decimalToBinary(decimal, result=\"\"):\n",
    "    if decimal == 0:\n",
    "        return result\n",
    "    result = str(decimal % 2) + result\n",
    "    return decimalToBinary(decimal // 2, result)"
   ]
  },
  {
   "cell_type": "code",
   "execution_count": 41,
   "id": "6f662f51-4463-40aa-b929-569a653ccf83",
   "metadata": {},
   "outputs": [
    {
     "data": {
      "text/plain": [
       "'100'"
      ]
     },
     "execution_count": 41,
     "metadata": {},
     "output_type": "execute_result"
    }
   ],
   "source": [
    "decimalToBinary(4)"
   ]
  },
  {
   "cell_type": "markdown",
   "id": "20849dc2-760d-4013-ad1c-f7339e71aa99",
   "metadata": {},
   "source": [
    "# Backtracking [**^^^**](#top-common) <a class=\"anchor\" id=\"common-backtracking\"></a>"
   ]
  },
  {
   "cell_type": "markdown",
   "id": "438392e8-157d-4d8c-bdb1-1dd1faab21a8",
   "metadata": {
    "tags": []
   },
   "source": [
    "### N-Queens [**^^^**](#top-common) <a class=\"anchor\" id=\"common-n-queens\"></a>"
   ]
  },
  {
   "attachments": {
    "529ed3a1-a726-41dd-928f-d15d98a91c08.png": {
     "image/png": "[encoded data removed]"
    }
   },
   "cell_type": "markdown",
   "id": "e606e0ce-42d9-4af9-b723-60b6d34048a7",
   "metadata": {},
   "source": [
    "![n-queens.png](attachment:529ed3a1-a726-41dd-928f-d15d98a91c08.png)"
   ]
  },
  {
   "cell_type": "markdown",
   "id": "c14ae569-1c9e-4c6e-a515-870686792f69",
   "metadata": {},
   "source": [
    "We represent the state as a 1D array.\n",
    "- Index of element in list -> row\n",
    "- Value of element in list -> column\n",
    "- Left example: [1, 3, 0, 2]\n",
    "- Right example: [2, 0, 3, 1]"
   ]
  },
  {
   "cell_type": "code",
   "execution_count": 42,
   "id": "24cfe7b2-443f-46c8-9eb0-8a354cb28a29",
   "metadata": {},
   "outputs": [],
   "source": [
    "def is_solution(state, n):\n",
    "    return len(state) == n\n",
    "\n",
    "def get_candidates(state, n):\n",
    "    position = len(state)\n",
    "    candidates = set(range(n))\n",
    "    for row, col in enumerate(state):\n",
    "        candidates.discard(col)\n",
    "        dist = position - row\n",
    "        candidates.discard(col + dist)\n",
    "        candidates.discard(col - dist)\n",
    "    return candidates\n",
    "\n",
    "def search(state, solutions, n):\n",
    "    if is_solution(state, n):\n",
    "        solutions.append(state.copy())\n",
    "    \n",
    "    for candidate in get_candidates(state, n):\n",
    "        state.append(candidate)\n",
    "        search(state, solutions, n)\n",
    "        state.pop()\n",
    "\n",
    "def solve(n):\n",
    "    solutions = []\n",
    "    state = []\n",
    "    search(state, solutions, n)\n",
    "    return solutions"
   ]
  },
  {
   "cell_type": "code",
   "execution_count": 43,
   "id": "0a3bef70-3bf8-4859-b536-228d5db9e025",
   "metadata": {},
   "outputs": [
    {
     "data": {
      "text/plain": [
       "[[1, 3, 0, 2], [2, 0, 3, 1]]"
      ]
     },
     "execution_count": 43,
     "metadata": {},
     "output_type": "execute_result"
    }
   ],
   "source": [
    "solve(4)"
   ]
  },
  {
   "cell_type": "markdown",
   "id": "63843607-e5cd-4c83-8432-c1c5895448c6",
   "metadata": {},
   "source": [
    "### Sudoku [**^^^**](#top-common) <a class=\"anchor\" id=\"common-sudoku\"></a>"
   ]
  },
  {
   "cell_type": "markdown",
   "id": "7ce5b35c-3d63-4cc9-b2b9-ca842a219a64",
   "metadata": {},
   "source": [
    "1. Each of 1-9 occurs exactly once in each row\n",
    "2. Each of 1-9 occurs exactly once in each column\n",
    "3. Each of 1-9 occurs exactly once in each 3x3"
   ]
  },
  {
   "attachments": {
    "ac0e88a1-ccf6-4f8f-b528-e890dbe94c48.png": {
     "image/png": "[encoded data removed]"
    }
   },
   "cell_type": "markdown",
   "id": "98e5f444-dc6e-4d83-a4a4-5d2ec72bd973",
   "metadata": {},
   "source": [
    "![sudoku.png](attachment:ac0e88a1-ccf6-4f8f-b528-e890dbe94c48.png)"
   ]
  },
  {
   "cell_type": "markdown",
   "id": "a1e3f262-9f76-433c-ac83-3f701d4225fe",
   "metadata": {},
   "source": [
    "Input: [[\"5\",\"3\",\".\",\".\",\"7\",\".\",\".\",\".\",\".\"],[\"6\",\".\",\".\",\"1\",\"9\",\"5\",\".\",\".\",\".\"],[\".\",\"9\",\"8\",\".\",\".\",\".\",\".\",\"6\",\".\"],[\"8\",\".\",\".\",\".\",\"6\",\".\",\".\",\".\",\"3\"],[\"4\",\".\",\".\",\"8\",\".\",\"3\",\".\",\".\",\"1\"],[\"7\",\".\",\".\",\".\",\"2\",\".\",\".\",\".\",\"6\"],[\".\",\"6\",\".\",\".\",\".\",\".\",\"2\",\"8\",\".\"],[\".\",\".\",\".\",\"4\",\"1\",\"9\",\".\",\".\",\"5\"],[\".\",\".\",\".\",\".\",\"8\",\".\",\".\",\"7\",\"9\"]]"
   ]
  },
  {
   "cell_type": "markdown",
   "id": "4bb73bb7-b651-4864-ba3e-844c6245f357",
   "metadata": {},
   "source": [
    "Output: [[\"5\",\"3\",\"4\",\"6\",\"7\",\"8\",\"9\",\"1\",\"2\"],[\"6\",\"7\",\"2\",\"1\",\"9\",\"5\",\"3\",\"4\",\"8\"],[\"1\",\"9\",\"8\",\"3\",\"4\",\"2\",\"5\",\"6\",\"7\"],[\"8\",\"5\",\"9\",\"7\",\"6\",\"1\",\"4\",\"2\",\"3\"],[\"4\",\"2\",\"6\",\"8\",\"5\",\"3\",\"7\",\"9\",\"1\"],[\"7\",\"1\",\"3\",\"9\",\"2\",\"4\",\"8\",\"5\",\"6\"],[\"9\",\"6\",\"1\",\"5\",\"3\",\"7\",\"2\",\"8\",\"4\"],[\"2\",\"8\",\"7\",\"4\",\"1\",\"9\",\"6\",\"3\",\"5\"],[\"3\",\"4\",\"5\",\"2\",\"8\",\"6\",\"1\",\"7\",\"9\"]]"
   ]
  },
  {
   "cell_type": "code",
   "execution_count": 44,
   "id": "2f60e3d8-94d6-4e31-b965-1fb7087e9f6e",
   "metadata": {},
   "outputs": [],
   "source": [
    "DIGITS = set([str(num) for num in range(1, 10)])\n",
    "\n",
    "def is_solution(state):\n",
    "    for row in get_rows(state):\n",
    "        if not set(row) == DIGITS: return False\n",
    "    for col in get_cols(state):\n",
    "        if not set(col) == DIGITS: return False\n",
    "    for grid in get_grids(state):\n",
    "        if not set(col) == DIGITS: return False\n",
    "    return True\n",
    "\n",
    "def get_candidates(state, row, col):\n",
    "    digits = DIGITS.copy()\n",
    "    remove_row(digits, row)\n",
    "    remove_col(digits, col)\n",
    "    remove_grid(digits, row, col)\n",
    "    return digits\n",
    "\n",
    "def search(state):\n",
    "    if is_solution(state):\n",
    "        return True\n",
    "    \n",
    "    for i, row in enumerate(state):\n",
    "        for j, element in enumerate(row):\n",
    "            if element == '.':\n",
    "                for candidate in get_candidates(state, i, j):\n",
    "                    state[i][j] = candidate\n",
    "                    if search(state): return True\n",
    "                    state[i][j] = '.'\n",
    "                return False\n",
    "    return True"
   ]
  },
  {
   "cell_type": "markdown",
   "id": "90ac15c2-278c-4e96-9fcd-142ab3225ca2",
   "metadata": {},
   "source": [
    "# Graphs [**^^^**](#top-common) <a class=\"anchor\" id=\"common-graphs\"></a>"
   ]
  },
  {
   "cell_type": "markdown",
   "id": "dadf3666-e23f-4a53-9294-fb0a8c62a443",
   "metadata": {},
   "source": [
    "### Has Path [**^^^**](#top-common) <a class=\"anchor\" id=\"common-has-path\"></a>"
   ]
  },
  {
   "cell_type": "code",
   "execution_count": 45,
   "id": "363e5c5a-93df-40bb-a9f3-622fd1d4950f",
   "metadata": {},
   "outputs": [],
   "source": [
    "edges = [\n",
    "    ['i', 'j'],\n",
    "    ['k', 'i'],\n",
    "    ['m', 'k'],\n",
    "    ['k', 'l'],\n",
    "    ['o', 'n']\n",
    "]"
   ]
  },
  {
   "cell_type": "code",
   "execution_count": 46,
   "id": "cf137661-5a83-4db1-a3cd-77ce5e712604",
   "metadata": {},
   "outputs": [],
   "source": [
    "def buildGraph(edges):\n",
    "    graph = {}\n",
    "    for edge in edges:\n",
    "        [a, b] = edge\n",
    "        if not a in graph:\n",
    "            graph[a] = []\n",
    "        if not b in graph:\n",
    "            graph[b] = []\n",
    "        graph[a].append(b)\n",
    "        graph[b].append(a)\n",
    "    return graph"
   ]
  },
  {
   "cell_type": "code",
   "execution_count": 47,
   "id": "2500f2fb-8589-48d3-8be6-498ee6542ff5",
   "metadata": {},
   "outputs": [],
   "source": [
    "g = buildGraph(edges)"
   ]
  },
  {
   "cell_type": "code",
   "execution_count": 48,
   "id": "7372a395-a57f-4766-b83e-4fbb4eb766d6",
   "metadata": {},
   "outputs": [],
   "source": [
    "def hasPath(graph, src, dst, visited = set()):\n",
    "    if src == dst:\n",
    "        return True\n",
    "    if src in visited:\n",
    "        return False\n",
    "    visited.add(src)\n",
    "    for neighbor in graph[src]:\n",
    "        if hasPath(graph, neighbor, dst, visited):\n",
    "            return True\n",
    "    return False"
   ]
  },
  {
   "cell_type": "code",
   "execution_count": 49,
   "id": "c5cf29bc-7183-455c-be0e-cd9cad147de5",
   "metadata": {},
   "outputs": [
    {
     "data": {
      "text/plain": [
       "True"
      ]
     },
     "execution_count": 49,
     "metadata": {},
     "output_type": "execute_result"
    }
   ],
   "source": [
    "hasPath(g, 'j', 'm')"
   ]
  },
  {
   "cell_type": "markdown",
   "id": "cc6949c4-6a06-4709-b4cc-b2ed62b073f7",
   "metadata": {
    "tags": []
   },
   "source": [
    "### Connected Component Count [**^^^**](#top-common) <a class=\"anchor\" id=\"common-connected-component-count\"></a>"
   ]
  },
  {
   "cell_type": "code",
   "execution_count": 50,
   "id": "99f12a45-001f-4751-9b1c-024b71f51ec4",
   "metadata": {
    "tags": []
   },
   "outputs": [],
   "source": [
    "def connectedComponentCount(graph):\n",
    "    visited = set()\n",
    "    count = 0\n",
    "    for node in graph:\n",
    "        if explore(graph, node, visited):\n",
    "            count += 1\n",
    "    return count\n",
    "\n",
    "def explore(graph, current, visited):\n",
    "    if current in visited:\n",
    "        return False\n",
    "    visited.add(current)\n",
    "    for neighbor in graph[current]:\n",
    "        explore(graph, neighbor, visited)\n",
    "    return True"
   ]
  },
  {
   "cell_type": "code",
   "execution_count": 51,
   "id": "eb855823-e705-4798-a88a-3e402abf574e",
   "metadata": {},
   "outputs": [],
   "source": [
    "gc = {\n",
    "    0: [8, 1, 5],\n",
    "    1: [0],\n",
    "    5: [0, 8],\n",
    "    8: [0, 5],\n",
    "    2: [3, 4],\n",
    "    3: [2, 4],\n",
    "    4: [3, 2]\n",
    "}"
   ]
  },
  {
   "cell_type": "code",
   "execution_count": 52,
   "id": "26f9cbb9-06ac-4643-972a-b24ef607519a",
   "metadata": {},
   "outputs": [
    {
     "data": {
      "text/plain": [
       "2"
      ]
     },
     "execution_count": 52,
     "metadata": {},
     "output_type": "execute_result"
    }
   ],
   "source": [
    "connectedComponentCount(gc)"
   ]
  },
  {
   "cell_type": "markdown",
   "id": "15a1dba7-bed2-4d2c-8d82-2b3bfbf093bf",
   "metadata": {
    "tags": []
   },
   "source": [
    "### Max Component [**^^^**](#top-common) <a class=\"anchor\" id=\"common-max-component\"></a>"
   ]
  },
  {
   "cell_type": "code",
   "execution_count": 53,
   "id": "03155064-e4e2-4f59-81ac-f47f0b34104e",
   "metadata": {},
   "outputs": [],
   "source": [
    "def maxComponentCount(graph):\n",
    "    visited = set()\n",
    "    maximum = 0\n",
    "    for node in graph:\n",
    "        e = explore(graph, node, visited)\n",
    "        maximum = max(maximum, e)\n",
    "    return maximum\n",
    "\n",
    "def explore(graph, current, visited):\n",
    "    if current in visited:\n",
    "        return 0\n",
    "    visited.add(current)\n",
    "    size = 1\n",
    "    for neighbor in graph[current]:\n",
    "        size += explore(graph, neighbor, visited)\n",
    "    return size"
   ]
  },
  {
   "cell_type": "code",
   "execution_count": 54,
   "id": "1b809035-987c-4d40-b359-e4aefb98ce96",
   "metadata": {},
   "outputs": [],
   "source": [
    "gc = {\n",
    "    0: [8, 1, 5],\n",
    "    1: [0],\n",
    "    5: [0, 8],\n",
    "    8: [0, 5],\n",
    "    2: [3, 4],\n",
    "    3: [2, 4],\n",
    "    4: [3, 2]\n",
    "}"
   ]
  },
  {
   "cell_type": "code",
   "execution_count": 55,
   "id": "c4605556-094b-4b9f-afb5-d9d154785f6e",
   "metadata": {},
   "outputs": [
    {
     "data": {
      "text/plain": [
       "4"
      ]
     },
     "execution_count": 55,
     "metadata": {},
     "output_type": "execute_result"
    }
   ],
   "source": [
    "maxComponentCount(gc)"
   ]
  },
  {
   "cell_type": "markdown",
   "id": "adeb722d-822b-4f93-a6da-73f98890cb5f",
   "metadata": {
    "tags": []
   },
   "source": [
    "### Shortest Path (BFS) [**^^^**](#top-common) <a class=\"anchor\" id=\"common-shortest-path\"></a>"
   ]
  },
  {
   "cell_type": "code",
   "execution_count": 56,
   "id": "f150a691-e11b-47fd-8b20-8df66513c1e8",
   "metadata": {},
   "outputs": [],
   "source": [
    "se = [\n",
    "    ['w', 'x'],\n",
    "    ['x', 'y'],\n",
    "    ['z', 'y'],\n",
    "    ['z', 'v'],\n",
    "    ['w', 'v']\n",
    "]"
   ]
  },
  {
   "cell_type": "code",
   "execution_count": 57,
   "id": "e09a3ee2-52f6-4482-a6f5-f9e94e344e50",
   "metadata": {},
   "outputs": [],
   "source": [
    "def buildGraph(edges):\n",
    "    graph = {}\n",
    "    for edge in edges:\n",
    "        [a, b] = edge\n",
    "        if not a in graph:\n",
    "            graph[a] = []\n",
    "        if not b in graph:\n",
    "            graph[b] = []\n",
    "        graph[a].append(b)\n",
    "        graph[b].append(a)\n",
    "    return graph"
   ]
  },
  {
   "cell_type": "code",
   "execution_count": 58,
   "id": "c00672f5-46c5-4dfb-a80a-300dfa61e0a1",
   "metadata": {},
   "outputs": [],
   "source": [
    "sg = buildGraph(se)"
   ]
  },
  {
   "cell_type": "code",
   "execution_count": 59,
   "id": "1648c7ee-6b13-4876-828c-502259158d38",
   "metadata": {},
   "outputs": [],
   "source": [
    "from collections import deque\n",
    "def shortestPath(graph, source, destination):\n",
    "    queue = deque([(source, 0)])\n",
    "    visited = set()\n",
    "    visited.add(source)\n",
    "    while len(queue) > 0:\n",
    "        [current, distance] = queue.pop()\n",
    "        if current == destination:\n",
    "            return distance\n",
    "        for neighbor in graph[current]:\n",
    "            if not neighbor in visited:\n",
    "                visited.add(neighbor)\n",
    "                queue.appendleft([neighbor, distance + 1])\n",
    "    return -1"
   ]
  },
  {
   "cell_type": "code",
   "execution_count": 60,
   "id": "468b14b8-ba65-4ca3-bf98-22b03e88d9eb",
   "metadata": {},
   "outputs": [
    {
     "data": {
      "text/plain": [
       "2"
      ]
     },
     "execution_count": 60,
     "metadata": {},
     "output_type": "execute_result"
    }
   ],
   "source": [
    "shortestPath(sg, 'w', 'z')"
   ]
  },
  {
   "cell_type": "markdown",
   "id": "7e11ec01-a5ad-41ed-bfd9-fd9e309d42cf",
   "metadata": {},
   "source": [
    "### Island Count [**^^^**](#top-common) <a class=\"anchor\" id=\"common-island-count\"></a>"
   ]
  },
  {
   "cell_type": "code",
   "execution_count": 61,
   "id": "453e324b-eff5-4ffd-bc93-78ff57e4f9c1",
   "metadata": {},
   "outputs": [],
   "source": [
    "grid = [\n",
    "    ['W', 'L', 'W', 'W', 'W'],\n",
    "    ['W', 'L', 'W', 'W', 'W'],\n",
    "    ['W', 'W', 'W', 'L', 'W'],\n",
    "    ['W', 'W', 'L', 'L', 'W'],\n",
    "    ['L', 'W', 'W', 'L', 'L'],\n",
    "    ['L', 'L', 'W', 'W', 'W'],\n",
    "]"
   ]
  },
  {
   "cell_type": "code",
   "execution_count": 62,
   "id": "5d727e1f-5806-4c03-9593-91df959c52ea",
   "metadata": {},
   "outputs": [],
   "source": [
    "def islandCount(grid):\n",
    "    visited = set()\n",
    "    count = 0\n",
    "    for r in range(0, len(grid)):\n",
    "        for c in range(0, len(grid[0])):\n",
    "            if explore(grid, r, c, visited):\n",
    "                count += 1\n",
    "    return count\n",
    "\n",
    "def explore(grid, r, c, visited):\n",
    "    rowInBounds = 0 <= r and r < len(grid)\n",
    "    colInBounds = 0 <= c and c < len(grid[0])\n",
    "    if not rowInBounds or not colInBounds:\n",
    "        return False\n",
    "    if grid[r][c] == 'W':\n",
    "        return False\n",
    "    pos = str(r) + ',' + str(c)\n",
    "    if pos in visited:\n",
    "        return False\n",
    "    visited.add(pos)\n",
    "    explore(grid, r-1, c, visited)\n",
    "    explore(grid, r+1, c, visited)\n",
    "    explore(grid, r, c-1, visited)\n",
    "    explore(grid, r, c+1, visited)\n",
    "    return True"
   ]
  },
  {
   "cell_type": "code",
   "execution_count": 63,
   "id": "38bba3da-1323-4d3e-ba59-b80f357a4d0f",
   "metadata": {},
   "outputs": [
    {
     "data": {
      "text/plain": [
       "3"
      ]
     },
     "execution_count": 63,
     "metadata": {},
     "output_type": "execute_result"
    }
   ],
   "source": [
    "islandCount(grid)"
   ]
  },
  {
   "cell_type": "markdown",
   "id": "32d1fb2e-f497-44a4-8653-761e73605e2b",
   "metadata": {},
   "source": [
    "### Topological Sort [**^^^**](#top-common) <a class=\"anchor\" id=\"common-topological-sort\"></a>"
   ]
  },
  {
   "cell_type": "markdown",
   "id": "fa647922-42bd-40db-bdb7-5635561ea0c2",
   "metadata": {},
   "source": [
    "    1. Initialize a queue, Q to keep a track of all the nodes in the graph with 0 in-degree.\n",
    "    2. Iterate over all the edges in the input and create an adjacency list and also a map of node v/s in-degree.\n",
    "    3. Add all the nodes with 0 in-degree to Q.\n",
    "    4. The following steps are to be done until the Q becomes empty.\n",
    "        a. Pop a node from the Q. Let's call this node, N.\n",
    "        b. For all the neighbors of this node, N, reduce their in-degree by 1. If any of the nodes' in-degree reaches 0, add it to the Q.\n",
    "        c. Add the node N to the list maintaining topologically sorted order.\n",
    "        Continue from step 4.1."
   ]
  }
 ],
 "metadata": {
  "kernelspec": {
   "display_name": "Python 3",
   "language": "python",
   "name": "python3"
  },
  "language_info": {
   "codemirror_mode": {
    "name": "ipython",
    "version": 3
   },
   "file_extension": ".py",
   "mimetype": "text/x-python",
   "name": "python",
   "nbconvert_exporter": "python",
   "pygments_lexer": "ipython3",
   "version": "3.6.3"
  }
 },
 "nbformat": 4,
 "nbformat_minor": 5
}
