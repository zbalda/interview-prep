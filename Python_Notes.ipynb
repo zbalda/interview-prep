{
 "cells": [
  {
   "cell_type": "markdown",
   "id": "458147c3-040f-4b12-93a0-138897545e02",
   "metadata": {
    "tags": []
   },
   "source": [
    "# Index <a class=\"anchor\" id=\"top\"></a>\n",
    "- [Deque](#deque)\n",
    "- [Hash Tables](#hash-tables)\n",
    "- [Sort](#sort)\n",
    "- [Search](#search)\n",
    "- [Trie](#trie)\n",
    "- [Backtracking Template](#backtracking)\n",
    "- [Directed Graph Traversals](#directed)\n",
    "    - [Depth First - Stack](#depth-first)\n",
    "    - [Breadth First - Queue](#breadth-first)\n",
    "- [Undirected Graph Traversals](#undirected)\n",
    "    - [Has Path](#has-path)\n",
    "    - [Connected Component Count](#connected-component-count)\n",
    "    - [Max Component](#max-component)\n",
    "    - [Shortest Path (BFS)](#shortest-path)\n",
    "    - [Island Count](#island-count)"
   ]
  },
  {
   "cell_type": "markdown",
   "id": "b4229a0a-955c-4580-9d9c-0c69201eaa55",
   "metadata": {},
   "source": [
    "## Deque <a class=\"anchor\" id=\"deque\"></a>\n",
    "#### Pronounced \"deck\", means \"double-ended queue\""
   ]
  },
  {
   "cell_type": "code",
   "execution_count": 1,
   "id": "dc26cc0b-f5d8-4261-b877-5d442fffef56",
   "metadata": {},
   "outputs": [
    {
     "name": "stdout",
     "output_type": "stream",
     "text": [
      "deque([3, 4])\n",
      "deque([1, 2, 3, 4])\n",
      "4\n",
      "1\n"
     ]
    }
   ],
   "source": [
    "from collections import deque\n",
    "a = deque()\n",
    "a.append(3)\n",
    "a.append(4)\n",
    "print(a)\n",
    "a.appendleft(2)\n",
    "a.appendleft(1)\n",
    "print(a)\n",
    "print(a.pop())\n",
    "print(a.popleft())"
   ]
  },
  {
   "cell_type": "markdown",
   "id": "bf24ad38-7091-4532-b859-56724f50275c",
   "metadata": {},
   "source": [
    "#### Stack\n",
    " - push() uses appendleft()\n",
    " - pop() uses popleft()\n",
    "\n",
    "#### Queue:\n",
    " - enqueue() uses append()\n",
    " - dequeue() uses popleft()"
   ]
  },
  {
   "cell_type": "markdown",
   "id": "d4f690a8-cc3a-4f11-a58e-388ec1ca5587",
   "metadata": {},
   "source": [
    "## Hash Tables <a class=\"anchor\" id=\"hash-tables\"></a>"
   ]
  },
  {
   "cell_type": "markdown",
   "id": "21a821af-ac91-47b3-8b6e-8805092aa054",
   "metadata": {},
   "source": [
    "### Dictionaries (Hash maps)"
   ]
  },
  {
   "cell_type": "code",
   "execution_count": 5,
   "id": "dd25e8cc-8578-43c0-a942-81e8056224c2",
   "metadata": {},
   "outputs": [
    {
     "name": "stdout",
     "output_type": "stream",
     "text": [
      "{'key1': 'first value', 'key2': 'second value'}\n",
      "{'key2': 'second value'}\n"
     ]
    }
   ],
   "source": [
    "a = {}\n",
    "a['key1'] = 'first value'\n",
    "a['key2'] = 'second value'\n",
    "print(a)\n",
    "del a['key1']\n",
    "print(a)"
   ]
  },
  {
   "cell_type": "markdown",
   "id": "341bc7aa-59ec-4f9c-97bb-cf09a708d487",
   "metadata": {},
   "source": [
    "### Sets (Hash Sets)"
   ]
  },
  {
   "cell_type": "code",
   "execution_count": 6,
   "id": "21fc870e-5168-49a2-a6d9-3b4c9d2b2a8f",
   "metadata": {},
   "outputs": [
    {
     "name": "stdout",
     "output_type": "stream",
     "text": [
      "{'item2', 'item1'}\n",
      "{'item2'}\n"
     ]
    }
   ],
   "source": [
    "a = set()\n",
    "a.add('item1')\n",
    "a.add('item2')\n",
    "print(a)\n",
    "a.remove('item1')\n",
    "print(a)"
   ]
  },
  {
   "cell_type": "markdown",
   "id": "b19f9a56-d8f5-4a92-a470-13e9796b3572",
   "metadata": {},
   "source": [
    "### Computational Complexity"
   ]
  },
  {
   "cell_type": "markdown",
   "id": "af17f354-a7c4-4dd1-81b4-4ea800563f0b",
   "metadata": {},
   "source": [
    " - Ideally, O(1) insertion, O(1) lookup. However, collisions!\n",
    " - Buckets are linked lists (separate chaining) -> O(1) insertion, O(n) lookup\n",
    " - Buckets are balanced binary search trees (AVL trees) -> O(log n) insertion, O(log n) lookup\n",
    " - Python dictionaries -> Avg(1) and O(n) for insertion, lookup, and deletion"
   ]
  },
  {
   "cell_type": "markdown",
   "id": "5c8e5cf2-5d35-4a56-bc59-0f43d25e8765",
   "metadata": {
    "tags": []
   },
   "source": [
    "# Sort <a class=\"anchor\" id=\"sort\"></a>"
   ]
  },
  {
   "cell_type": "markdown",
   "id": "fef77fa8-17cf-4821-adcf-932d550605c6",
   "metadata": {},
   "source": [
    "#### O(nlogn)"
   ]
  },
  {
   "cell_type": "code",
   "execution_count": 10,
   "id": "30e6375c-0e34-4664-b1aa-4f7bc7c45602",
   "metadata": {},
   "outputs": [
    {
     "name": "stdout",
     "output_type": "stream",
     "text": [
      "[-1, -1, 0, 2, 4]\n",
      "[4, 2, 0, -1, -1]\n"
     ]
    }
   ],
   "source": [
    "a = [-1, 0, -1, 4, 2]\n",
    "a.sort()\n",
    "print(a)\n",
    "a.sort(reverse=True)\n",
    "print(a)"
   ]
  },
  {
   "cell_type": "code",
   "execution_count": 11,
   "id": "02d57d12-5f16-41d1-8d69-6b4bd81069c0",
   "metadata": {},
   "outputs": [
    {
     "name": "stdout",
     "output_type": "stream",
     "text": [
      "['Paris', 'London', 'Melbourne', 'Copenhagen']\n"
     ]
    }
   ],
   "source": [
    "def lengthKey(str):\n",
    "  return len(str)\n",
    "\n",
    "b = [\"London\", \"Paris\", \"Copenhagen\", \"Melbourne\"]\n",
    "b.sort(key=lengthKey)\n",
    "print(b)"
   ]
  },
  {
   "cell_type": "markdown",
   "id": "5d08c3ef-b1af-4362-806f-c4dbd6893229",
   "metadata": {
    "tags": []
   },
   "source": [
    "# Search <a class=\"anchor\" id=\"search\"></a>"
   ]
  },
  {
   "cell_type": "code",
   "execution_count": 74,
   "id": "29ab0a5a-8e11-4fca-8c79-8ff47bbd12cd",
   "metadata": {},
   "outputs": [],
   "source": [
    "l = [1, 3, 5, 9, 11, 17, 22, 24, 31, 47, 55]"
   ]
  },
  {
   "cell_type": "code",
   "execution_count": 73,
   "id": "8bdf3793-7300-48b0-b942-22f7b536b7e3",
   "metadata": {},
   "outputs": [],
   "source": [
    "def find_index(target):\n",
    "    left, right = 0, len(l)\n",
    "    while left < right:\n",
    "        middle = (left + right) // 2\n",
    "        if l[middle] == target:\n",
    "            return middle\n",
    "        elif target < l[middle]:\n",
    "            right = middle\n",
    "        else:\n",
    "            left = middle + 1\n",
    "    return -1"
   ]
  },
  {
   "cell_type": "code",
   "execution_count": 75,
   "id": "f94dbb2f-0f1a-4030-8971-ddf961a66e21",
   "metadata": {},
   "outputs": [
    {
     "data": {
      "text/plain": [
       "2"
      ]
     },
     "execution_count": 75,
     "metadata": {},
     "output_type": "execute_result"
    }
   ],
   "source": [
    "find_index(5)"
   ]
  },
  {
   "cell_type": "markdown",
   "id": "f0565af5-61f7-47d2-a2fc-3ae56b95a8ee",
   "metadata": {},
   "source": [
    "# Constructing a Trie (prefix tree) <a class=\"anchor\" id=\"trie\"></a>"
   ]
  },
  {
   "cell_type": "code",
   "execution_count": null,
   "id": "c2e3d153-cc40-4b10-b65a-01a41194d2b4",
   "metadata": {},
   "outputs": [],
   "source": [
    "class Solution:\n",
    "    def findWords(self, words):        \n",
    "        trie = {}\n",
    "        for word in words:\n",
    "            node = trie\n",
    "            for letter in word:\n",
    "                # retrieve the next node; If not found, create a empty node.\n",
    "                node = node.setdefault(letter, {})\n",
    "            # mark the existence of a word in trie node\n",
    "            node['$'] = word"
   ]
  },
  {
   "cell_type": "markdown",
   "id": "253210ed-fb79-4720-bb1f-7d55fca4e3de",
   "metadata": {},
   "source": [
    "# Backtracking Template <a class=\"anchor\" id=\"backtracking\"></a>"
   ]
  },
  {
   "cell_type": "code",
   "execution_count": 12,
   "id": "785425e8-0aef-4b72-b24d-5c27c559771d",
   "metadata": {},
   "outputs": [],
   "source": [
    "def backtrack(candidate):\n",
    "    if find_solution(candidate):\n",
    "        output(candidate)\n",
    "        return\n",
    "    \n",
    "    # iterate all possible candidates.\n",
    "    for next_candidate in list_of_candidates:\n",
    "        if is_valid(next_candidate):\n",
    "            # try this partial candidate solution\n",
    "            place(next_candidate)\n",
    "            # given the candidate, explore further.\n",
    "            backtrack(next_candidate)\n",
    "            # backtrack\n",
    "            remove(next_candidate)"
   ]
  },
  {
   "cell_type": "markdown",
   "id": "382f70d2-b44d-4251-b418-a44ac77e0822",
   "metadata": {},
   "source": [
    "# Directed Graph Traversals <a class=\"anchor\" id=\"directed\"></a>"
   ]
  },
  {
   "cell_type": "code",
   "execution_count": 39,
   "id": "1ca4a99c-295e-42a1-9ebc-4e49be18bde5",
   "metadata": {},
   "outputs": [],
   "source": [
    "graph = {\n",
    "    'a': ['c', 'b'],\n",
    "    'b': ['d'],\n",
    "    'c': ['e'],\n",
    "    'd': ['f'],\n",
    "    'e': [],\n",
    "    'f': []\n",
    "}"
   ]
  },
  {
   "cell_type": "markdown",
   "id": "5df150b4-ad54-4faa-9933-c4e9f0b739cc",
   "metadata": {
    "tags": []
   },
   "source": [
    "## Depth First - Stack <a class=\"anchor\" id=\"depth-first\"></a>"
   ]
  },
  {
   "cell_type": "markdown",
   "id": "cc87296f-88f8-485e-a5a1-f85420680631",
   "metadata": {},
   "source": [
    "#### Could also use recursion"
   ]
  },
  {
   "cell_type": "code",
   "execution_count": 78,
   "id": "eed882bb-25cc-4dfc-9045-e42ed77610c6",
   "metadata": {},
   "outputs": [],
   "source": [
    "from collections import deque\n",
    "def depthFirstPrint(graph, source):\n",
    "    stack = deque(source)\n",
    "    visited = set()\n",
    "    visited.add(source)\n",
    "    while len(stack) > 0:\n",
    "        current = stack.pop()\n",
    "        print(current)\n",
    "        for neighbor in graph[current]:\n",
    "            if not neighbor in visited:\n",
    "                visited.add(neighbor)\n",
    "                stack.append(neighbor)"
   ]
  },
  {
   "cell_type": "code",
   "execution_count": 79,
   "id": "505121a9-52b1-408b-bc1f-5b578aeae749",
   "metadata": {},
   "outputs": [
    {
     "name": "stdout",
     "output_type": "stream",
     "text": [
      "a\n",
      "b\n",
      "d\n",
      "f\n",
      "c\n",
      "e\n"
     ]
    }
   ],
   "source": [
    "depthFirstPrint(graph, 'a')"
   ]
  },
  {
   "cell_type": "markdown",
   "id": "9578f742-cf6c-4449-bd13-ea7234d81035",
   "metadata": {
    "tags": []
   },
   "source": [
    "## Breadth First - Queue <a class=\"anchor\" id=\"breadth-first\"></a>"
   ]
  },
  {
   "cell_type": "code",
   "execution_count": 80,
   "id": "951cc580-4277-4159-b623-53b4e28d403c",
   "metadata": {},
   "outputs": [],
   "source": [
    "from collections import deque\n",
    "def breadthFirstPrint(graph, source):\n",
    "    queue = deque(source)\n",
    "    visited = set()\n",
    "    visited.add(source)\n",
    "    while len(queue) > 0:\n",
    "        current = queue.pop()\n",
    "        print(current)\n",
    "        for neighbor in graph[current]:\n",
    "            if not neighbor in visited:\n",
    "                visited.add(neighbor)\n",
    "                queue.appendleft(neighbor)"
   ]
  },
  {
   "cell_type": "code",
   "execution_count": 81,
   "id": "95167a17-e233-414f-96ab-fe3667f35c08",
   "metadata": {},
   "outputs": [
    {
     "name": "stdout",
     "output_type": "stream",
     "text": [
      "a\n",
      "c\n",
      "b\n",
      "e\n",
      "d\n",
      "f\n"
     ]
    }
   ],
   "source": [
    "breadthFirstPrint(graph, 'a')"
   ]
  },
  {
   "cell_type": "markdown",
   "id": "b3cf158f-a29f-479b-a408-1fec1adf76cb",
   "metadata": {},
   "source": [
    "# Undirected Graph Traversals - Cycle Checking <a class=\"anchor\" id=\"undirected\"></a>"
   ]
  },
  {
   "cell_type": "code",
   "execution_count": 83,
   "id": "77052b58-0f8f-460f-9e47-b160f0cb460f",
   "metadata": {
    "tags": []
   },
   "outputs": [],
   "source": [
    "edges = [\n",
    "    ['i', 'j'],\n",
    "    ['k', 'i'],\n",
    "    ['m', 'k'],\n",
    "    ['k', 'l'],\n",
    "    ['o', 'n']\n",
    "]"
   ]
  },
  {
   "cell_type": "code",
   "execution_count": 50,
   "id": "73003d0a-7204-4a12-8fa7-18c6f3fcb841",
   "metadata": {},
   "outputs": [],
   "source": [
    "def buildGraph(edges):\n",
    "    graph = {}\n",
    "    for edge in edges:\n",
    "        [a, b] = edge\n",
    "        if not a in graph:\n",
    "            graph[a] = []\n",
    "        if not b in graph:\n",
    "            graph[b] = []\n",
    "        graph[a].append(b)\n",
    "        graph[b].append(a)\n",
    "    return graph"
   ]
  },
  {
   "cell_type": "code",
   "execution_count": 53,
   "id": "09daab72-3cd6-4915-95ac-e666d8261c59",
   "metadata": {},
   "outputs": [
    {
     "name": "stdout",
     "output_type": "stream",
     "text": [
      "{'i': ['j', 'k'], 'j': ['i'], 'k': ['i', 'm', 'l'], 'm': ['k'], 'l': ['k'], 'o': ['n'], 'n': ['o']}\n"
     ]
    }
   ],
   "source": [
    "g = buildGraph(edges)\n",
    "print(g)"
   ]
  },
  {
   "cell_type": "markdown",
   "id": "4e42cd16-dcf5-458a-8afc-06210ef90490",
   "metadata": {},
   "source": [
    "### Has Path <a class=\"anchor\" id=\"has-path\"></a>"
   ]
  },
  {
   "cell_type": "code",
   "execution_count": 55,
   "id": "2435fee8-b59c-4501-9eac-8eb5fcc58f00",
   "metadata": {},
   "outputs": [],
   "source": [
    "def hasPath(graph, src, dst, visited = set()):\n",
    "    if src == dst:\n",
    "        return True\n",
    "    if src in visited:\n",
    "        return False\n",
    "    visited.add(src)\n",
    "    for neighbor in graph[src]:\n",
    "        if hasPath(graph, neighbor, dst, visited):\n",
    "            return True\n",
    "    return False"
   ]
  },
  {
   "cell_type": "code",
   "execution_count": 56,
   "id": "5de0f095-2d59-4a8d-8ac4-2da1d64ea429",
   "metadata": {},
   "outputs": [
    {
     "data": {
      "text/plain": [
       "True"
      ]
     },
     "execution_count": 56,
     "metadata": {},
     "output_type": "execute_result"
    }
   ],
   "source": [
    "hasPath(g, 'j', 'm')"
   ]
  },
  {
   "cell_type": "markdown",
   "id": "cda92438-d6dc-4ef2-8a25-71372457714d",
   "metadata": {},
   "source": [
    "### Connected Component Count <a class=\"anchor\" id=\"connected-component-count\"></a>"
   ]
  },
  {
   "cell_type": "code",
   "execution_count": 68,
   "id": "d590172a-f637-4b70-86cf-20fd474f286d",
   "metadata": {},
   "outputs": [],
   "source": [
    "def connectedComponentCount(graph):\n",
    "    visited = set()\n",
    "    count = 0\n",
    "    for node in graph:\n",
    "        if explore(graph, node, visited):\n",
    "            count += 1\n",
    "    return count\n",
    "\n",
    "def explore(graph, current, visited):\n",
    "    if current in visited:\n",
    "        return False\n",
    "    visited.add(current)\n",
    "    for neighbor in graph[current]:\n",
    "        explore(graph, neighbor, visited)\n",
    "    return True"
   ]
  },
  {
   "cell_type": "code",
   "execution_count": 69,
   "id": "94fc08da-bf7d-4caf-a77a-e2e9ba4dafbe",
   "metadata": {},
   "outputs": [],
   "source": [
    "gc = {\n",
    "    0: [8, 1, 5],\n",
    "    1: [0],\n",
    "    5: [0, 8],\n",
    "    8: [0, 5],\n",
    "    2: [3, 4],\n",
    "    3: [2, 4],\n",
    "    4: [3, 2]\n",
    "}"
   ]
  },
  {
   "cell_type": "code",
   "execution_count": 70,
   "id": "ecb158d0-d0f3-4f71-9900-45125cbe719c",
   "metadata": {},
   "outputs": [
    {
     "data": {
      "text/plain": [
       "2"
      ]
     },
     "execution_count": 70,
     "metadata": {},
     "output_type": "execute_result"
    }
   ],
   "source": [
    "connectedComponentCount(gc)"
   ]
  },
  {
   "cell_type": "markdown",
   "id": "0ca0eb7d-63e2-46c2-b910-105993c430a7",
   "metadata": {},
   "source": [
    "### Max Component <a class=\"anchor\" id=\"max-component\"></a>"
   ]
  },
  {
   "cell_type": "code",
   "execution_count": 71,
   "id": "67bdcce6-d586-4130-937b-b0d0a64474fc",
   "metadata": {},
   "outputs": [],
   "source": [
    "def maxComponentCount(graph):\n",
    "    visited = set()\n",
    "    maximum = 0\n",
    "    for node in graph:\n",
    "        e = explore(graph, node, visited)\n",
    "        maximum = max(maximum, e)\n",
    "    return maximum\n",
    "\n",
    "def explore(graph, current, visited):\n",
    "    if current in visited:\n",
    "        return 0\n",
    "    visited.add(current)\n",
    "    size = 1\n",
    "    for neighbor in graph[current]:\n",
    "        size += explore(graph, neighbor, visited)\n",
    "    return size"
   ]
  },
  {
   "cell_type": "code",
   "execution_count": 72,
   "id": "45a2535b-0ad5-48f8-b9ce-f91401253c54",
   "metadata": {},
   "outputs": [
    {
     "data": {
      "text/plain": [
       "4"
      ]
     },
     "execution_count": 72,
     "metadata": {},
     "output_type": "execute_result"
    }
   ],
   "source": [
    "maxComponentCount(gc)"
   ]
  },
  {
   "cell_type": "markdown",
   "id": "ef4849b7-1d23-492f-9993-e95980cb6d05",
   "metadata": {},
   "source": [
    "### Shortest Path (BFS) <a class=\"anchor\" id=\"shortest-path\"></a>"
   ]
  },
  {
   "cell_type": "code",
   "execution_count": 101,
   "id": "c775511c-e4d4-464f-a5b9-5d8b3913cb0d",
   "metadata": {
    "tags": []
   },
   "outputs": [],
   "source": [
    "from collections import deque\n",
    "def shortestPath(graph, source, destination):\n",
    "    queue = deque([(source, 0)])\n",
    "    visited = set()\n",
    "    visited.add(source)\n",
    "    while len(queue) > 0:\n",
    "        [current, distance] = queue.pop()\n",
    "        if current == destination:\n",
    "            return distance\n",
    "        for neighbor in graph[current]:\n",
    "            if not neighbor in visited:\n",
    "                visited.add(neighbor)\n",
    "                queue.appendleft([neighbor, distance + 1])\n",
    "    return -1"
   ]
  },
  {
   "cell_type": "code",
   "execution_count": 102,
   "id": "c872b720-c2f2-4d6a-8127-f6f7e2566e35",
   "metadata": {},
   "outputs": [],
   "source": [
    "se = [\n",
    "    ['w', 'x'],\n",
    "    ['x', 'y'],\n",
    "    ['z', 'y'],\n",
    "    ['z', 'v'],\n",
    "    ['w', 'v']\n",
    "]"
   ]
  },
  {
   "cell_type": "code",
   "execution_count": 103,
   "id": "c0cb34a0-6e5a-411a-a30f-c28a659c7428",
   "metadata": {},
   "outputs": [],
   "source": [
    "sg = buildGraph(se)"
   ]
  },
  {
   "cell_type": "code",
   "execution_count": 104,
   "id": "9936ee8a-5b01-4e48-ae83-cf93c173f6a8",
   "metadata": {},
   "outputs": [
    {
     "data": {
      "text/plain": [
       "2"
      ]
     },
     "execution_count": 104,
     "metadata": {},
     "output_type": "execute_result"
    }
   ],
   "source": [
    "shortestPath(sg, 'w', 'z')"
   ]
  },
  {
   "cell_type": "markdown",
   "id": "2f5c11d1-d392-4866-ab4a-b78b8e0914e3",
   "metadata": {},
   "source": [
    "### Island Count <a class=\"anchor\" id=\"island-count\"></a>"
   ]
  },
  {
   "cell_type": "code",
   "execution_count": 122,
   "id": "bbe3f068-1671-49d4-8fbb-7753d57be452",
   "metadata": {},
   "outputs": [],
   "source": [
    "grid = [\n",
    "    ['W', 'L', 'W', 'W', 'W'],\n",
    "    ['W', 'L', 'W', 'W', 'W'],\n",
    "    ['W', 'W', 'W', 'L', 'W'],\n",
    "    ['W', 'W', 'L', 'L', 'W'],\n",
    "    ['L', 'W', 'W', 'L', 'L'],\n",
    "    ['L', 'L', 'W', 'W', 'W'],\n",
    "]"
   ]
  },
  {
   "cell_type": "code",
   "execution_count": 123,
   "id": "b27ac23b-d975-4ccb-9cff-8483b343fdce",
   "metadata": {},
   "outputs": [],
   "source": [
    "def islandCount(grid):\n",
    "    visited = set()\n",
    "    count = 0\n",
    "    for r in range(0, len(grid)):\n",
    "        for c in range(0, len(grid[0])):\n",
    "            if explore(grid, r, c, visited):\n",
    "                count += 1\n",
    "    return count\n",
    "\n",
    "def explore(grid, r, c, visited):\n",
    "    rowInBounds = 0 <= r and r < len(grid)\n",
    "    colInBounds = 0 <= c and c < len(grid[0])\n",
    "    if not rowInBounds or not colInBounds:\n",
    "        return False\n",
    "    if grid[r][c] == 'W':\n",
    "        return False\n",
    "    pos = str(r) + ',' + str(c)\n",
    "    if pos in visited:\n",
    "        return False\n",
    "    visited.add(pos)\n",
    "    explore(grid, r-1, c, visited)\n",
    "    explore(grid, r+1, c, visited)\n",
    "    explore(grid, r, c-1, visited)\n",
    "    explore(grid, r, c+1, visited)\n",
    "    return True"
   ]
  },
  {
   "cell_type": "code",
   "execution_count": 124,
   "id": "afdf3147-d924-455f-bd40-efb1b549887c",
   "metadata": {},
   "outputs": [
    {
     "data": {
      "text/plain": [
       "3"
      ]
     },
     "execution_count": 124,
     "metadata": {},
     "output_type": "execute_result"
    }
   ],
   "source": [
    "islandCount(grid)"
   ]
  },
  {
   "cell_type": "markdown",
   "id": "f029ac4d-714b-435f-9238-7d354694d41a",
   "metadata": {},
   "source": [
    "### [Top](#top)"
   ]
  }
 ],
 "metadata": {
  "kernelspec": {
   "display_name": "Python 3",
   "language": "python",
   "name": "python3"
  },
  "language_info": {
   "codemirror_mode": {
    "name": "ipython",
    "version": 3
   },
   "file_extension": ".py",
   "mimetype": "text/x-python",
   "name": "python",
   "nbconvert_exporter": "python",
   "pygments_lexer": "ipython3",
   "version": "3.6.3"
  }
 },
 "nbformat": 4,
 "nbformat_minor": 5
}
