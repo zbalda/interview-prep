{
 "cells": [
  {
   "cell_type": "markdown",
   "id": "458147c3-040f-4b12-93a0-138897545e02",
   "metadata": {
    "tags": []
   },
   "source": [
    "# Index <a class=\"anchor\" id=\"top\"></a>\n",
    "- [Deque](#deque)\n",
    "- [Hash Tables](#hash-tables)\n",
    "- [Sort](#sort)\n",
    "- [Search](#search)\n",
    "- [Binary Trees](#binary-trees)\n",
    "    - [Traversals](#binary-tree-traversals)\n",
    "    - [DFS Iterative (preorder only)](#binary-trees-dfs-iterative)\n",
    "    - [DFS Recursive (preorder, inorder, and postorder)](#binary-trees-dfs-recursive)\n",
    "    - [BFS Iterative (level order)](#binary-trees-bfs-iterative)\n",
    "- [Trie](#trie)\n",
    "- [Backtracking Template](#backtracking)\n",
    "- [Directed Graph Traversals](#directed)\n",
    "    - [Depth First - Stack](#depth-first)\n",
    "    - [Breadth First - Queue](#breadth-first)\n",
    "- [Undirected Graph Traversals](#undirected)\n",
    "    - [Has Path](#has-path)\n",
    "    - [Connected Component Count](#connected-component-count)\n",
    "    - [Max Component](#max-component)\n",
    "    - [Shortest Path (BFS)](#shortest-path)\n",
    "    - [Island Count](#island-count)\n",
    "- [Search in Rotated Array](#search-rotated)\n",
    "- [Topological Sort](#topological-sort)\n",
    "\n",
    "## Common Problems\n",
    "- [Binary Trees](#common-binary-trees)\n",
    "    - [Max Root To Leaf Path Sum](#common-binary-tree-max-root-to-leaf-path-sum)\n",
    "    - [Max Path Sum](#common-binary-tree-max-path-sum)"
   ]
  },
  {
   "cell_type": "markdown",
   "id": "b4229a0a-955c-4580-9d9c-0c69201eaa55",
   "metadata": {},
   "source": [
    "## Deque <a class=\"anchor\" id=\"deque\"></a>\n",
    "#### Pronounced \"deck\", means \"double-ended queue\""
   ]
  },
  {
   "cell_type": "code",
   "execution_count": 1,
   "id": "dc26cc0b-f5d8-4261-b877-5d442fffef56",
   "metadata": {},
   "outputs": [
    {
     "name": "stdout",
     "output_type": "stream",
     "text": [
      "deque([3, 4])\n",
      "deque([1, 2, 3, 4])\n",
      "4\n",
      "1\n"
     ]
    }
   ],
   "source": [
    "from collections import deque\n",
    "a = deque()\n",
    "a.append(3)\n",
    "a.append(4)\n",
    "print(a)\n",
    "a.appendleft(2)\n",
    "a.appendleft(1)\n",
    "print(a)\n",
    "print(a.pop())\n",
    "print(a.popleft())"
   ]
  },
  {
   "cell_type": "markdown",
   "id": "bf24ad38-7091-4532-b859-56724f50275c",
   "metadata": {},
   "source": [
    "#### Stack\n",
    " - push() uses appendleft()\n",
    " - pop() uses popleft()\n",
    "\n",
    "#### Queue:\n",
    " - enqueue() uses append()\n",
    " - dequeue() uses popleft()"
   ]
  },
  {
   "cell_type": "markdown",
   "id": "d4f690a8-cc3a-4f11-a58e-388ec1ca5587",
   "metadata": {},
   "source": [
    "## Hash Tables <a class=\"anchor\" id=\"hash-tables\"></a>"
   ]
  },
  {
   "cell_type": "markdown",
   "id": "21a821af-ac91-47b3-8b6e-8805092aa054",
   "metadata": {},
   "source": [
    "### Dictionaries (Hash maps)"
   ]
  },
  {
   "cell_type": "code",
   "execution_count": 2,
   "id": "dd25e8cc-8578-43c0-a942-81e8056224c2",
   "metadata": {},
   "outputs": [
    {
     "name": "stdout",
     "output_type": "stream",
     "text": [
      "{'key1': 'first value', 'key2': 'second value'}\n",
      "{'key2': 'second value'}\n"
     ]
    }
   ],
   "source": [
    "a = {}\n",
    "a['key1'] = 'first value'\n",
    "a['key2'] = 'second value'\n",
    "print(a)\n",
    "del a['key1']\n",
    "print(a)"
   ]
  },
  {
   "cell_type": "markdown",
   "id": "341bc7aa-59ec-4f9c-97bb-cf09a708d487",
   "metadata": {},
   "source": [
    "### Sets (Hash Sets)"
   ]
  },
  {
   "cell_type": "code",
   "execution_count": 3,
   "id": "21fc870e-5168-49a2-a6d9-3b4c9d2b2a8f",
   "metadata": {},
   "outputs": [
    {
     "name": "stdout",
     "output_type": "stream",
     "text": [
      "{'item1', 'item2'}\n",
      "{'item2'}\n"
     ]
    }
   ],
   "source": [
    "a = set()\n",
    "a.add('item1')\n",
    "a.add('item2')\n",
    "print(a)\n",
    "a.remove('item1')\n",
    "print(a)"
   ]
  },
  {
   "cell_type": "markdown",
   "id": "b19f9a56-d8f5-4a92-a470-13e9796b3572",
   "metadata": {},
   "source": [
    "### Computational Complexity"
   ]
  },
  {
   "cell_type": "markdown",
   "id": "af17f354-a7c4-4dd1-81b4-4ea800563f0b",
   "metadata": {},
   "source": [
    " - Ideally, O(1) insertion, O(1) lookup. However, collisions!\n",
    " - Buckets are linked lists (separate chaining) -> O(1) insertion, O(n) lookup\n",
    " - Buckets are balanced binary search trees (AVL trees) -> O(log n) insertion, O(log n) lookup\n",
    " - Python dictionaries -> Avg(1) and O(n) for insertion, lookup, and deletion"
   ]
  },
  {
   "cell_type": "markdown",
   "id": "5c8e5cf2-5d35-4a56-bc59-0f43d25e8765",
   "metadata": {
    "tags": []
   },
   "source": [
    "# Sort <a class=\"anchor\" id=\"sort\"></a>"
   ]
  },
  {
   "cell_type": "markdown",
   "id": "fef77fa8-17cf-4821-adcf-932d550605c6",
   "metadata": {},
   "source": [
    "#### O(nlogn)"
   ]
  },
  {
   "cell_type": "code",
   "execution_count": 4,
   "id": "30e6375c-0e34-4664-b1aa-4f7bc7c45602",
   "metadata": {},
   "outputs": [
    {
     "name": "stdout",
     "output_type": "stream",
     "text": [
      "[-1, -1, 0, 2, 4]\n",
      "[4, 2, 0, -1, -1]\n"
     ]
    }
   ],
   "source": [
    "a = [-1, 0, -1, 4, 2]\n",
    "a.sort()\n",
    "print(a)\n",
    "a.sort(reverse=True)\n",
    "print(a)"
   ]
  },
  {
   "cell_type": "code",
   "execution_count": 5,
   "id": "02d57d12-5f16-41d1-8d69-6b4bd81069c0",
   "metadata": {},
   "outputs": [
    {
     "name": "stdout",
     "output_type": "stream",
     "text": [
      "['Paris', 'London', 'Melbourne', 'Copenhagen']\n"
     ]
    }
   ],
   "source": [
    "def lengthKey(str):\n",
    "  return len(str)\n",
    "\n",
    "b = [\"London\", \"Paris\", \"Copenhagen\", \"Melbourne\"]\n",
    "b.sort(key=lengthKey)\n",
    "print(b)"
   ]
  },
  {
   "cell_type": "markdown",
   "id": "5d08c3ef-b1af-4362-806f-c4dbd6893229",
   "metadata": {
    "tags": []
   },
   "source": [
    "# Search <a class=\"anchor\" id=\"search\"></a>"
   ]
  },
  {
   "cell_type": "code",
   "execution_count": 6,
   "id": "29ab0a5a-8e11-4fca-8c79-8ff47bbd12cd",
   "metadata": {},
   "outputs": [],
   "source": [
    "l = [1, 3, 5, 9, 11, 17, 22, 24, 31, 47, 55]"
   ]
  },
  {
   "cell_type": "code",
   "execution_count": 7,
   "id": "8bdf3793-7300-48b0-b942-22f7b536b7e3",
   "metadata": {},
   "outputs": [],
   "source": [
    "def find_index(target):\n",
    "    left, right = 0, len(l)\n",
    "    while left < right:\n",
    "        middle = (left + right) // 2\n",
    "        if l[middle] == target:\n",
    "            return middle\n",
    "        elif target < l[middle]:\n",
    "            right = middle\n",
    "        else:\n",
    "            left = middle + 1\n",
    "    return -1"
   ]
  },
  {
   "cell_type": "code",
   "execution_count": 8,
   "id": "f94dbb2f-0f1a-4030-8971-ddf961a66e21",
   "metadata": {},
   "outputs": [
    {
     "data": {
      "text/plain": [
       "2"
      ]
     },
     "execution_count": 8,
     "metadata": {},
     "output_type": "execute_result"
    }
   ],
   "source": [
    "find_index(5)"
   ]
  },
  {
   "cell_type": "markdown",
   "id": "a923bfdf-6c1e-485b-b85b-bab28e0ac2bb",
   "metadata": {
    "tags": []
   },
   "source": [
    "# Binary Trees <a class=\"anchor\" id=\"binary-trees\"></a>"
   ]
  },
  {
   "cell_type": "markdown",
   "id": "e7ddfddb-4a46-47e0-960c-7d42462df7e8",
   "metadata": {},
   "source": [
    "**Criteria:** At most 2 children per node, exactly 1 root, and exactly 1 path between root and any node"
   ]
  },
  {
   "cell_type": "code",
   "execution_count": 63,
   "id": "e42d0294-92b0-4b3c-b9da-a17e02e038c0",
   "metadata": {},
   "outputs": [],
   "source": [
    "class Node:\n",
    "    def __init__(self, val, left=None, right=None):\n",
    "        self.left = left\n",
    "        self.right = right\n",
    "        self.val = val"
   ]
  },
  {
   "cell_type": "code",
   "execution_count": 10,
   "id": "b9bd7644-76f8-485d-ab52-1bb2204b5a91",
   "metadata": {},
   "outputs": [],
   "source": [
    "a, b, c, d, e, f = Node('A'), Node('B'), Node('C'), Node('D'), Node('E'), Node('F')\n",
    "a.left, a.right, b.left, b.right, c.right = b, c, d, e, f"
   ]
  },
  {
   "cell_type": "markdown",
   "id": "3953e0f6-d43e-410c-ace6-eb0bebb3a19d",
   "metadata": {},
   "source": [
    "### Traversals <a class=\"anchor\" id=\"binary-tree-traversals\"></a>"
   ]
  },
  {
   "attachments": {
    "b8f02a63-11c7-4af6-a83f-ac80ce007a25.png": {
     "image/png": "[encoded data removed]"
    }
   },
   "cell_type": "markdown",
   "id": "d6edf5cc-4b1f-4f04-9c8c-90e99e9481d0",
   "metadata": {},
   "source": [
    "![binary-tree.png](attachment:b8f02a63-11c7-4af6-a83f-ac80ce007a25.png)"
   ]
  },
  {
   "cell_type": "markdown",
   "id": "91062bbb-632a-495a-8eba-beea64d31b74",
   "metadata": {
    "tags": []
   },
   "source": [
    "- **DFS Preorder** (root, left, right): A, B, D, E, C, F\n",
    "- **DFS Inorder** (left, root, right): D, B, E, A, C, F\n",
    "- **DFS Postorder** (left, right, root): D, E, B, F, C, A\n",
    "- **BFS Level-order**: A, B, C, D, E, F"
   ]
  },
  {
   "cell_type": "markdown",
   "id": "596c8708-10b2-424a-90a2-5961e447c5ed",
   "metadata": {},
   "source": [
    "### **DFS Iterative** (preorder only) <a class=\"anchor\" id=\"binary-trees-dfs-iterative\"></a>"
   ]
  },
  {
   "cell_type": "code",
   "execution_count": 11,
   "id": "c274d589-9541-49ff-8052-216ded75fa5c",
   "metadata": {},
   "outputs": [],
   "source": [
    "from collections import deque\n",
    "def IterativeBinaryTreePreOrderDFS(root):\n",
    "    stack = deque()\n",
    "    stack.append(root)\n",
    "    res = []\n",
    "    while len(stack) > 0:\n",
    "        current = stack.pop()\n",
    "        res.append(current.val)\n",
    "        if current.right: stack.append(current.right)\n",
    "        if current.left: stack.append(current.left)\n",
    "    return res"
   ]
  },
  {
   "cell_type": "code",
   "execution_count": 12,
   "id": "a3f2b072-40c7-401b-a46f-9ad15d3d11ce",
   "metadata": {},
   "outputs": [
    {
     "name": "stdout",
     "output_type": "stream",
     "text": [
      "Preorder: A B D E C F\n"
     ]
    }
   ],
   "source": [
    "print('Preorder:', ' '.join(IterativeBinaryTreePreOrderDFS(a)))"
   ]
  },
  {
   "cell_type": "markdown",
   "id": "2d0751f0-7103-450c-b3c6-5a2ce6eb255e",
   "metadata": {},
   "source": [
    "### **DFS Recursive** (preorder, inorder, and postorder) <a class=\"anchor\" id=\"binary-trees-dfs-recursive\"></a>"
   ]
  },
  {
   "cell_type": "code",
   "execution_count": 13,
   "id": "34d42017-82f1-4578-935f-384c2642a5d8",
   "metadata": {},
   "outputs": [],
   "source": [
    "def RecursiveBinaryTreeDFS(root, order='preorder'):\n",
    "    if root is None: return []\n",
    "    left = RecursiveBinaryTreeDFS(root.left, order)\n",
    "    right = RecursiveBinaryTreeDFS(root.right, order)\n",
    "    if order == 'preorder': return [root.val] + left + right\n",
    "    if order == 'inorder': return left + [root.val] + right\n",
    "    if order == 'postorder': return left + right + [root.val]"
   ]
  },
  {
   "cell_type": "code",
   "execution_count": 14,
   "id": "7af56318-45dd-4c25-afdf-4d996c2e0b67",
   "metadata": {
    "tags": []
   },
   "outputs": [
    {
     "name": "stdout",
     "output_type": "stream",
     "text": [
      "Preorder: A B D E C F\n",
      "Inorder: D B E A C F\n",
      "Postorder: D E B F C A\n"
     ]
    }
   ],
   "source": [
    "print('Preorder:', ' '.join(RecursiveBinaryTreeDFS(a, order='preorder')))\n",
    "print('Inorder:', ' '.join(RecursiveBinaryTreeDFS(a, order='inorder')))\n",
    "print('Postorder:', ' '.join(RecursiveBinaryTreeDFS(a, order='postorder')))"
   ]
  },
  {
   "cell_type": "markdown",
   "id": "ba81e970-b5e9-4723-b668-4fb552f9a911",
   "metadata": {},
   "source": [
    "### **BFS Iterative** (level order) <a class=\"anchor\" id=\"binary-trees-bfs-iterative\"></a>"
   ]
  },
  {
   "cell_type": "code",
   "execution_count": 15,
   "id": "eea40b86-2d25-4be4-a42d-096109fb41b7",
   "metadata": {},
   "outputs": [],
   "source": [
    "from collections import deque\n",
    "def breadthFirstPrint(root):\n",
    "    queue = deque()\n",
    "    queue.append(root)\n",
    "    res = []\n",
    "    while len(queue) > 0:\n",
    "        current = queue.pop()\n",
    "        res.append(current.val)\n",
    "        if current.left: queue.appendleft(current.left)\n",
    "        if current.right: queue.appendleft(current.right)\n",
    "    return res"
   ]
  },
  {
   "cell_type": "code",
   "execution_count": 16,
   "id": "6f882064-b197-462f-aae5-c4d0a32bdb07",
   "metadata": {},
   "outputs": [
    {
     "name": "stdout",
     "output_type": "stream",
     "text": [
      "Iterative Preorder: A B C D E F\n"
     ]
    }
   ],
   "source": [
    "print('Iterative Preorder:', ' '.join(breadthFirstPrint(a)))"
   ]
  },
  {
   "cell_type": "markdown",
   "id": "f0565af5-61f7-47d2-a2fc-3ae56b95a8ee",
   "metadata": {
    "tags": []
   },
   "source": [
    "# Constructing a Trie (prefix tree) <a class=\"anchor\" id=\"trie\"></a>"
   ]
  },
  {
   "cell_type": "code",
   "execution_count": 17,
   "id": "c2e3d153-cc40-4b10-b65a-01a41194d2b4",
   "metadata": {},
   "outputs": [],
   "source": [
    "class Solution:\n",
    "    def findWords(self, words):        \n",
    "        trie = {}\n",
    "        for word in words:\n",
    "            node = trie\n",
    "            for letter in word:\n",
    "                # retrieve the next node; If not found, create a empty node.\n",
    "                node = node.setdefault(letter, {})\n",
    "            # mark the existence of a word in trie node\n",
    "            node['$'] = word"
   ]
  },
  {
   "cell_type": "markdown",
   "id": "f32cefb4-18c9-4b6f-a23a-892c49601aa6",
   "metadata": {},
   "source": [
    "Big O: For N words and M max length string\n",
    " - Search/Insert:\n",
    "     - O(M) time\n",
    "     - O(1) memory\n",
    " - Construct:\n",
    "     - O(N * L) time (L is average word length)\n",
    "     - O(Alphabet size * M * N) memory"
   ]
  },
  {
   "cell_type": "markdown",
   "id": "253210ed-fb79-4720-bb1f-7d55fca4e3de",
   "metadata": {},
   "source": [
    "# Backtracking Template <a class=\"anchor\" id=\"backtracking\"></a>"
   ]
  },
  {
   "cell_type": "code",
   "execution_count": 18,
   "id": "785425e8-0aef-4b72-b24d-5c27c559771d",
   "metadata": {},
   "outputs": [],
   "source": [
    "def backtrack(candidate):\n",
    "    if find_solution(candidate):\n",
    "        output(candidate)\n",
    "        return\n",
    "    \n",
    "    # iterate all possible candidates.\n",
    "    for next_candidate in list_of_candidates:\n",
    "        if is_valid(next_candidate):\n",
    "            # try this partial candidate solution\n",
    "            place(next_candidate)\n",
    "            # given the candidate, explore further.\n",
    "            backtrack(next_candidate)\n",
    "            # backtrack\n",
    "            remove(next_candidate)"
   ]
  },
  {
   "cell_type": "markdown",
   "id": "382f70d2-b44d-4251-b418-a44ac77e0822",
   "metadata": {},
   "source": [
    "# Directed Graph Traversals <a class=\"anchor\" id=\"directed\"></a>"
   ]
  },
  {
   "cell_type": "code",
   "execution_count": 19,
   "id": "1ca4a99c-295e-42a1-9ebc-4e49be18bde5",
   "metadata": {},
   "outputs": [],
   "source": [
    "graph = {\n",
    "    'a': ['c', 'b'],\n",
    "    'b': ['d'],\n",
    "    'c': ['e'],\n",
    "    'd': ['f'],\n",
    "    'e': [],\n",
    "    'f': []\n",
    "}"
   ]
  },
  {
   "cell_type": "markdown",
   "id": "5df150b4-ad54-4faa-9933-c4e9f0b739cc",
   "metadata": {
    "tags": []
   },
   "source": [
    "## Depth First - Stack <a class=\"anchor\" id=\"depth-first\"></a>"
   ]
  },
  {
   "cell_type": "markdown",
   "id": "cc87296f-88f8-485e-a5a1-f85420680631",
   "metadata": {},
   "source": [
    "#### Could also use recursion"
   ]
  },
  {
   "cell_type": "code",
   "execution_count": 20,
   "id": "eed882bb-25cc-4dfc-9045-e42ed77610c6",
   "metadata": {},
   "outputs": [],
   "source": [
    "from collections import deque\n",
    "def depthFirstPrint(graph, source):\n",
    "    stack = deque(source)\n",
    "    visited = set()\n",
    "    visited.add(source)\n",
    "    while len(stack) > 0:\n",
    "        current = stack.pop()\n",
    "        print(current)\n",
    "        for neighbor in graph[current]:\n",
    "            if not neighbor in visited:\n",
    "                visited.add(neighbor)\n",
    "                stack.append(neighbor)"
   ]
  },
  {
   "cell_type": "code",
   "execution_count": 21,
   "id": "505121a9-52b1-408b-bc1f-5b578aeae749",
   "metadata": {},
   "outputs": [
    {
     "name": "stdout",
     "output_type": "stream",
     "text": [
      "a\n",
      "b\n",
      "d\n",
      "f\n",
      "c\n",
      "e\n"
     ]
    }
   ],
   "source": [
    "depthFirstPrint(graph, 'a')"
   ]
  },
  {
   "cell_type": "markdown",
   "id": "9578f742-cf6c-4449-bd13-ea7234d81035",
   "metadata": {
    "tags": []
   },
   "source": [
    "## Breadth First - Queue <a class=\"anchor\" id=\"breadth-first\"></a>"
   ]
  },
  {
   "cell_type": "code",
   "execution_count": 22,
   "id": "951cc580-4277-4159-b623-53b4e28d403c",
   "metadata": {},
   "outputs": [],
   "source": [
    "from collections import deque\n",
    "def breadthFirstPrint(graph, source):\n",
    "    queue = deque(source)\n",
    "    visited = set()\n",
    "    visited.add(source)\n",
    "    while len(queue) > 0:\n",
    "        current = queue.pop()\n",
    "        print(current)\n",
    "        for neighbor in graph[current]:\n",
    "            if not neighbor in visited:\n",
    "                visited.add(neighbor)\n",
    "                queue.appendleft(neighbor)"
   ]
  },
  {
   "cell_type": "code",
   "execution_count": 23,
   "id": "95167a17-e233-414f-96ab-fe3667f35c08",
   "metadata": {},
   "outputs": [
    {
     "name": "stdout",
     "output_type": "stream",
     "text": [
      "a\n",
      "c\n",
      "b\n",
      "e\n",
      "d\n",
      "f\n"
     ]
    }
   ],
   "source": [
    "breadthFirstPrint(graph, 'a')"
   ]
  },
  {
   "cell_type": "markdown",
   "id": "b3cf158f-a29f-479b-a408-1fec1adf76cb",
   "metadata": {},
   "source": [
    "# Undirected Graph Traversals - Cycle Checking <a class=\"anchor\" id=\"undirected\"></a>"
   ]
  },
  {
   "cell_type": "code",
   "execution_count": 24,
   "id": "77052b58-0f8f-460f-9e47-b160f0cb460f",
   "metadata": {
    "tags": []
   },
   "outputs": [],
   "source": [
    "edges = [\n",
    "    ['i', 'j'],\n",
    "    ['k', 'i'],\n",
    "    ['m', 'k'],\n",
    "    ['k', 'l'],\n",
    "    ['o', 'n']\n",
    "]"
   ]
  },
  {
   "cell_type": "code",
   "execution_count": 25,
   "id": "73003d0a-7204-4a12-8fa7-18c6f3fcb841",
   "metadata": {},
   "outputs": [],
   "source": [
    "def buildGraph(edges):\n",
    "    graph = {}\n",
    "    for edge in edges:\n",
    "        [a, b] = edge\n",
    "        if not a in graph:\n",
    "            graph[a] = []\n",
    "        if not b in graph:\n",
    "            graph[b] = []\n",
    "        graph[a].append(b)\n",
    "        graph[b].append(a)\n",
    "    return graph"
   ]
  },
  {
   "cell_type": "code",
   "execution_count": 26,
   "id": "09daab72-3cd6-4915-95ac-e666d8261c59",
   "metadata": {},
   "outputs": [
    {
     "name": "stdout",
     "output_type": "stream",
     "text": [
      "{'i': ['j', 'k'], 'j': ['i'], 'k': ['i', 'm', 'l'], 'm': ['k'], 'l': ['k'], 'o': ['n'], 'n': ['o']}\n"
     ]
    }
   ],
   "source": [
    "g = buildGraph(edges)\n",
    "print(g)"
   ]
  },
  {
   "cell_type": "markdown",
   "id": "4e42cd16-dcf5-458a-8afc-06210ef90490",
   "metadata": {},
   "source": [
    "### Has Path <a class=\"anchor\" id=\"has-path\"></a>"
   ]
  },
  {
   "cell_type": "code",
   "execution_count": 27,
   "id": "2435fee8-b59c-4501-9eac-8eb5fcc58f00",
   "metadata": {},
   "outputs": [],
   "source": [
    "def hasPath(graph, src, dst, visited = set()):\n",
    "    if src == dst:\n",
    "        return True\n",
    "    if src in visited:\n",
    "        return False\n",
    "    visited.add(src)\n",
    "    for neighbor in graph[src]:\n",
    "        if hasPath(graph, neighbor, dst, visited):\n",
    "            return True\n",
    "    return False"
   ]
  },
  {
   "cell_type": "code",
   "execution_count": 28,
   "id": "5de0f095-2d59-4a8d-8ac4-2da1d64ea429",
   "metadata": {},
   "outputs": [
    {
     "data": {
      "text/plain": [
       "True"
      ]
     },
     "execution_count": 28,
     "metadata": {},
     "output_type": "execute_result"
    }
   ],
   "source": [
    "hasPath(g, 'j', 'm')"
   ]
  },
  {
   "cell_type": "markdown",
   "id": "cda92438-d6dc-4ef2-8a25-71372457714d",
   "metadata": {},
   "source": [
    "### Connected Component Count <a class=\"anchor\" id=\"connected-component-count\"></a>"
   ]
  },
  {
   "cell_type": "code",
   "execution_count": 29,
   "id": "d590172a-f637-4b70-86cf-20fd474f286d",
   "metadata": {},
   "outputs": [],
   "source": [
    "def connectedComponentCount(graph):\n",
    "    visited = set()\n",
    "    count = 0\n",
    "    for node in graph:\n",
    "        if explore(graph, node, visited):\n",
    "            count += 1\n",
    "    return count\n",
    "\n",
    "def explore(graph, current, visited):\n",
    "    if current in visited:\n",
    "        return False\n",
    "    visited.add(current)\n",
    "    for neighbor in graph[current]:\n",
    "        explore(graph, neighbor, visited)\n",
    "    return True"
   ]
  },
  {
   "cell_type": "code",
   "execution_count": 30,
   "id": "94fc08da-bf7d-4caf-a77a-e2e9ba4dafbe",
   "metadata": {},
   "outputs": [],
   "source": [
    "gc = {\n",
    "    0: [8, 1, 5],\n",
    "    1: [0],\n",
    "    5: [0, 8],\n",
    "    8: [0, 5],\n",
    "    2: [3, 4],\n",
    "    3: [2, 4],\n",
    "    4: [3, 2]\n",
    "}"
   ]
  },
  {
   "cell_type": "code",
   "execution_count": 31,
   "id": "ecb158d0-d0f3-4f71-9900-45125cbe719c",
   "metadata": {},
   "outputs": [
    {
     "data": {
      "text/plain": [
       "2"
      ]
     },
     "execution_count": 31,
     "metadata": {},
     "output_type": "execute_result"
    }
   ],
   "source": [
    "connectedComponentCount(gc)"
   ]
  },
  {
   "cell_type": "markdown",
   "id": "0ca0eb7d-63e2-46c2-b910-105993c430a7",
   "metadata": {},
   "source": [
    "### Max Component <a class=\"anchor\" id=\"max-component\"></a>"
   ]
  },
  {
   "cell_type": "code",
   "execution_count": 32,
   "id": "67bdcce6-d586-4130-937b-b0d0a64474fc",
   "metadata": {},
   "outputs": [],
   "source": [
    "def maxComponentCount(graph):\n",
    "    visited = set()\n",
    "    maximum = 0\n",
    "    for node in graph:\n",
    "        e = explore(graph, node, visited)\n",
    "        maximum = max(maximum, e)\n",
    "    return maximum\n",
    "\n",
    "def explore(graph, current, visited):\n",
    "    if current in visited:\n",
    "        return 0\n",
    "    visited.add(current)\n",
    "    size = 1\n",
    "    for neighbor in graph[current]:\n",
    "        size += explore(graph, neighbor, visited)\n",
    "    return size"
   ]
  },
  {
   "cell_type": "code",
   "execution_count": 33,
   "id": "45a2535b-0ad5-48f8-b9ce-f91401253c54",
   "metadata": {},
   "outputs": [
    {
     "data": {
      "text/plain": [
       "4"
      ]
     },
     "execution_count": 33,
     "metadata": {},
     "output_type": "execute_result"
    }
   ],
   "source": [
    "maxComponentCount(gc)"
   ]
  },
  {
   "cell_type": "markdown",
   "id": "ef4849b7-1d23-492f-9993-e95980cb6d05",
   "metadata": {},
   "source": [
    "### Shortest Path (BFS) <a class=\"anchor\" id=\"shortest-path\"></a>"
   ]
  },
  {
   "cell_type": "code",
   "execution_count": 34,
   "id": "c775511c-e4d4-464f-a5b9-5d8b3913cb0d",
   "metadata": {
    "tags": []
   },
   "outputs": [],
   "source": [
    "from collections import deque\n",
    "def shortestPath(graph, source, destination):\n",
    "    queue = deque([(source, 0)])\n",
    "    visited = set()\n",
    "    visited.add(source)\n",
    "    while len(queue) > 0:\n",
    "        [current, distance] = queue.pop()\n",
    "        if current == destination:\n",
    "            return distance\n",
    "        for neighbor in graph[current]:\n",
    "            if not neighbor in visited:\n",
    "                visited.add(neighbor)\n",
    "                queue.appendleft([neighbor, distance + 1])\n",
    "    return -1"
   ]
  },
  {
   "cell_type": "code",
   "execution_count": 35,
   "id": "c872b720-c2f2-4d6a-8127-f6f7e2566e35",
   "metadata": {},
   "outputs": [],
   "source": [
    "se = [\n",
    "    ['w', 'x'],\n",
    "    ['x', 'y'],\n",
    "    ['z', 'y'],\n",
    "    ['z', 'v'],\n",
    "    ['w', 'v']\n",
    "]"
   ]
  },
  {
   "cell_type": "code",
   "execution_count": 36,
   "id": "c0cb34a0-6e5a-411a-a30f-c28a659c7428",
   "metadata": {},
   "outputs": [],
   "source": [
    "sg = buildGraph(se)"
   ]
  },
  {
   "cell_type": "code",
   "execution_count": 37,
   "id": "9936ee8a-5b01-4e48-ae83-cf93c173f6a8",
   "metadata": {},
   "outputs": [
    {
     "data": {
      "text/plain": [
       "2"
      ]
     },
     "execution_count": 37,
     "metadata": {},
     "output_type": "execute_result"
    }
   ],
   "source": [
    "shortestPath(sg, 'w', 'z')"
   ]
  },
  {
   "cell_type": "markdown",
   "id": "2f5c11d1-d392-4866-ab4a-b78b8e0914e3",
   "metadata": {},
   "source": [
    "### Island Count <a class=\"anchor\" id=\"island-count\"></a>"
   ]
  },
  {
   "cell_type": "code",
   "execution_count": 38,
   "id": "bbe3f068-1671-49d4-8fbb-7753d57be452",
   "metadata": {},
   "outputs": [],
   "source": [
    "grid = [\n",
    "    ['W', 'L', 'W', 'W', 'W'],\n",
    "    ['W', 'L', 'W', 'W', 'W'],\n",
    "    ['W', 'W', 'W', 'L', 'W'],\n",
    "    ['W', 'W', 'L', 'L', 'W'],\n",
    "    ['L', 'W', 'W', 'L', 'L'],\n",
    "    ['L', 'L', 'W', 'W', 'W'],\n",
    "]"
   ]
  },
  {
   "cell_type": "code",
   "execution_count": 39,
   "id": "b27ac23b-d975-4ccb-9cff-8483b343fdce",
   "metadata": {},
   "outputs": [],
   "source": [
    "def islandCount(grid):\n",
    "    visited = set()\n",
    "    count = 0\n",
    "    for r in range(0, len(grid)):\n",
    "        for c in range(0, len(grid[0])):\n",
    "            if explore(grid, r, c, visited):\n",
    "                count += 1\n",
    "    return count\n",
    "\n",
    "def explore(grid, r, c, visited):\n",
    "    rowInBounds = 0 <= r and r < len(grid)\n",
    "    colInBounds = 0 <= c and c < len(grid[0])\n",
    "    if not rowInBounds or not colInBounds:\n",
    "        return False\n",
    "    if grid[r][c] == 'W':\n",
    "        return False\n",
    "    pos = str(r) + ',' + str(c)\n",
    "    if pos in visited:\n",
    "        return False\n",
    "    visited.add(pos)\n",
    "    explore(grid, r-1, c, visited)\n",
    "    explore(grid, r+1, c, visited)\n",
    "    explore(grid, r, c-1, visited)\n",
    "    explore(grid, r, c+1, visited)\n",
    "    return True"
   ]
  },
  {
   "cell_type": "code",
   "execution_count": 40,
   "id": "afdf3147-d924-455f-bd40-efb1b549887c",
   "metadata": {},
   "outputs": [
    {
     "data": {
      "text/plain": [
       "3"
      ]
     },
     "execution_count": 40,
     "metadata": {},
     "output_type": "execute_result"
    }
   ],
   "source": [
    "islandCount(grid)"
   ]
  },
  {
   "cell_type": "markdown",
   "id": "4686d084-c8fd-40c4-aa4b-5369efce4d74",
   "metadata": {
    "tags": []
   },
   "source": [
    "## Search in a Rotated Array (don't copy) <a class=\"anchor\" id=\"search-rotated\"></a>"
   ]
  },
  {
   "cell_type": "code",
   "execution_count": 41,
   "id": "a41b9b49-61bb-4e8f-8ae1-c5797951b80b",
   "metadata": {},
   "outputs": [],
   "source": [
    "class Solution:\n",
    "    def search(self, nums, target: int):\n",
    "        start, end = 0, len(nums) - 1\n",
    "        while start <= end:\n",
    "            mid = start + (end - start) // 2\n",
    "            if nums[mid] == target:\n",
    "                return mid\n",
    "            elif nums[mid] >= nums[start]:\n",
    "                if target >= nums[start] and target < nums[mid]:\n",
    "                    end = mid - 1\n",
    "                else:\n",
    "                    start = mid + 1\n",
    "            else:\n",
    "                if target <= nums[end] and target > nums[mid]:\n",
    "                    start = mid + 1\n",
    "                else:\n",
    "                    end = mid - 1\n",
    "        return -1"
   ]
  },
  {
   "cell_type": "markdown",
   "id": "f7618221-b67b-4706-b64b-8d184161132d",
   "metadata": {},
   "source": [
    "## Topological Sorting (with in-degree) <a class=\"anchor\" id=\"topological-sort\"></a>"
   ]
  },
  {
   "cell_type": "markdown",
   "id": "76dc2478-86bd-4654-9da0-4f91399938b1",
   "metadata": {},
   "source": [
    "Algorithm\n",
    "\n",
    "    1. Initialize a queue, Q to keep a track of all the nodes in the graph with 0 in-degree.\n",
    "    2. Iterate over all the edges in the input and create an adjacency list and also a map of node v/s in-degree.\n",
    "    3. Add all the nodes with 0 in-degree to Q.\n",
    "    4. The following steps are to be done until the Q becomes empty.\n",
    "        a. Pop a node from the Q. Let's call this node, N.\n",
    "        b. For all the neighbors of this node, N, reduce their in-degree by 1. If any of the nodes' in-degree reaches 0, add it to the Q.\n",
    "        c. Add the node N to the list maintaining topologically sorted order.\n",
    "        Continue from step 4.1.\n"
   ]
  },
  {
   "cell_type": "markdown",
   "id": "ec33b99c-d83b-4654-a5a3-021c664d2601",
   "metadata": {},
   "source": [
    "# Common Problems"
   ]
  },
  {
   "cell_type": "markdown",
   "id": "a9677076-8e64-45d3-8042-59b8547ba8b2",
   "metadata": {},
   "source": [
    "# Binary Trees <a class=\"anchor\" id=\"common-binary-trees\"></a>"
   ]
  },
  {
   "attachments": {
    "f36a121c-b780-42d1-a966-513b3f6d7ad0.png": {
     "image/png": "[encoded data removed]"
    }
   },
   "cell_type": "markdown",
   "id": "16491206-bb6d-4b8f-b3b0-44644150f5f6",
   "metadata": {},
   "source": [
    "![binary-tree.png](attachment:f36a121c-b780-42d1-a966-513b3f6d7ad0.png)"
   ]
  },
  {
   "cell_type": "code",
   "execution_count": 79,
   "id": "b26b467c-cadf-44f3-8135-d0ed607a7fe8",
   "metadata": {},
   "outputs": [],
   "source": [
    "class Node:\n",
    "    def __init__(self, val, left=None, right=None):\n",
    "        self.left = left\n",
    "        self.right = right\n",
    "        self.val = val"
   ]
  },
  {
   "cell_type": "code",
   "execution_count": 80,
   "id": "1b214699-301b-43f7-8fde-194a4d1e8508",
   "metadata": {},
   "outputs": [],
   "source": [
    "an, bn, cn, dn, en, fn = Node(-20), Node(5), Node(6), Node(50), Node(25), Node(50)\n",
    "an.left, an.right, bn.left, bn.right, cn.right = bn, cn, dn, en, fn"
   ]
  },
  {
   "cell_type": "markdown",
   "id": "e2b9b54c-a731-45c6-be41-3b41f21764f8",
   "metadata": {
    "tags": []
   },
   "source": [
    "### Max Root to Leaf Path Sum <a class=\"anchor\" id=\"common-binary-tree-max-root-to-leaf-path-sum\"></a>"
   ]
  },
  {
   "cell_type": "markdown",
   "id": "52619947-dab0-4b1b-8172-dc1ba1930167",
   "metadata": {},
   "source": [
    "- Recursive DFS\n",
    "- Base case: No children -> return 0\n",
    "- Decision: Current value + max(left value, right value)"
   ]
  },
  {
   "cell_type": "code",
   "execution_count": 81,
   "id": "b17ffc87-24e2-457d-a8fc-740ee1f90c86",
   "metadata": {},
   "outputs": [],
   "source": [
    "def maxRootToLeafPathSumOfBinaryTree(root):\n",
    "    left_max = maxRootToLeafPathSum(root.left) if root.left else 0\n",
    "    right_max = maxRootToLeafPathSum(root.right) if root.right else 0\n",
    "    return root.val + max(left_max, right_max)"
   ]
  },
  {
   "cell_type": "code",
   "execution_count": 82,
   "id": "3dd68d9c-1c73-40f1-844d-f748f2fba395",
   "metadata": {},
   "outputs": [
    {
     "data": {
      "text/plain": [
       "36"
      ]
     },
     "execution_count": 82,
     "metadata": {},
     "output_type": "execute_result"
    }
   ],
   "source": [
    "maxRootToLeafPathSum(an)"
   ]
  },
  {
   "cell_type": "markdown",
   "id": "b3ced83a-45c6-4289-95da-dfb84adb0834",
   "metadata": {
    "tags": []
   },
   "source": [
    "### Max Path Sum <a class=\"anchor\" id=\"common-binary-tree-max-path-sum\"></a>"
   ]
  },
  {
   "cell_type": "markdown",
   "id": "777e4367-2e30-4e0e-98ad-ccda25923d65",
   "metadata": {},
   "source": [
    "- Recursive DFS\n",
    "- Track both \"line max\" and \"global max\"\n",
    "- Base case: No children -> return 0 for line max and 0 for global max\n",
    "- Line max decision: max(left_line_max + root, right_line_max + root, root)\n",
    "- Global max decision: max(left_global_max, right_global_max, left_line_max + right_line_max + root) "
   ]
  },
  {
   "cell_type": "code",
   "execution_count": 83,
   "id": "640cf6b0-b345-4dce-9224-e87093e8154d",
   "metadata": {},
   "outputs": [],
   "source": [
    "def maxPathSumOfBinaryTree(root):\n",
    "    left_max, left_global_max = 0, 0\n",
    "    right_max, right_global_max = 0, 0 \n",
    "    if root.left:\n",
    "        left_max, left_global_max = maxPathSumOfBinaryTree(root.left)\n",
    "    if root.right:\n",
    "        right_max, right_global_max = maxPathSumOfBinaryTree(root.right)\n",
    "    line_max = max(left_max + root.val, right_max + root.val, root.val)\n",
    "    global_max = max(left_global_max, right_global_max, left_max + right_max + root.val)\n",
    "    return line_max, global_max"
   ]
  },
  {
   "cell_type": "code",
   "execution_count": 84,
   "id": "3dbb1c20-816a-47dd-b7e9-6ff1845912f8",
   "metadata": {},
   "outputs": [
    {
     "data": {
      "text/plain": [
       "91"
      ]
     },
     "execution_count": 84,
     "metadata": {},
     "output_type": "execute_result"
    }
   ],
   "source": [
    "line_max, global_max = maxPathSumOfBinaryTree(an)\n",
    "max(line_max, global_max)"
   ]
  },
  {
   "cell_type": "markdown",
   "id": "f029ac4d-714b-435f-9238-7d354694d41a",
   "metadata": {
    "tags": []
   },
   "source": [
    "### [Top](#top)"
   ]
  }
 ],
 "metadata": {
  "kernelspec": {
   "display_name": "Python 3",
   "language": "python",
   "name": "python3"
  },
  "language_info": {
   "codemirror_mode": {
    "name": "ipython",
    "version": 3
   },
   "file_extension": ".py",
   "mimetype": "text/x-python",
   "name": "python",
   "nbconvert_exporter": "python",
   "pygments_lexer": "ipython3",
   "version": "3.6.3"
  }
 },
 "nbformat": 4,
 "nbformat_minor": 5
}
