{
 "cells": [
  {
   "cell_type": "code",
   "execution_count": 13,
   "id": "6494f663-ae04-4509-baff-5aa09dd5cb8e",
   "metadata": {},
   "outputs": [
    {
     "name": "stdout",
     "output_type": "stream",
     "text": [
      "13 1 3\n",
      "8 0 8\n",
      "10 1 0\n",
      "6 0 6\n",
      "res\n",
      "3\n",
      "8\n",
      "0\n",
      "6\n"
     ]
    }
   ],
   "source": [
    "class ListNode:\n",
    "    def __init__(self, val=0, next=None):\n",
    "        self.val = val\n",
    "        self.next = next\n",
    "\n",
    "class Solution:\n",
    "    def addTwoNumbers(self, l1: ListNode, l2: ListNode):\n",
    "        \n",
    "        start = ListNode()\n",
    "        current = start\n",
    "        carry = 0\n",
    "        while not (l1 is None and l2 is None) or carry != 0:\n",
    "            next_node = ListNode()\n",
    "            current.next = next_node\n",
    "            current = next_node\n",
    "            l1_val = 0 if not l1 else l1.val\n",
    "            l2_val = 0 if not l2 else l2.val\n",
    "            add = carry + l1_val + l2_val            \n",
    "            carry = 1 if add > 9 else 0\n",
    "            store = add % 10 if add > 9 else add\n",
    "            current.value = store\n",
    "            l1 = None if not l1 else l1.next\n",
    "            l2 = None if not l2 else l2.next\n",
    "        result = start.next\n",
    "        return result\n",
    "\n",
    "\n",
    "# 8-6-7-5 -> 5768 \n",
    "l1_fourth = ListNode(5)\n",
    "l1_third = ListNode(7, l1_fourth)\n",
    "l1_second = ListNode(6, l1_third)\n",
    "l1 = ListNode(8, l1_second)\n",
    "\n",
    "# 5-1-3 -> 315\n",
    "l2_third = ListNode(3)\n",
    "l2_second = ListNode(1, l2_third)\n",
    "l2 = ListNode(5, l2_second)\n",
    "\n",
    "# 5768 + 315 = 6083 -> 3-8-0-6\n",
    "s = Solution()\n",
    "res = s.addTwoNumbers(l1, l2)\n",
    "\n",
    "current = res\n",
    "print(\"res\")\n",
    "while not current is None:\n",
    "    print(current.value)\n",
    "    current = current.next"
   ]
  }
 ],
 "metadata": {
  "kernelspec": {
   "display_name": "Python 3",
   "language": "python",
   "name": "python3"
  },
  "language_info": {
   "codemirror_mode": {
    "name": "ipython",
    "version": 3
   },
   "file_extension": ".py",
   "mimetype": "text/x-python",
   "name": "python",
   "nbconvert_exporter": "python",
   "pygments_lexer": "ipython3",
   "version": "3.6.3"
  }
 },
 "nbformat": 4,
 "nbformat_minor": 5
}
