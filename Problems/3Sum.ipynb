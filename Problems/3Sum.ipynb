{
 "cells": [
  {
   "cell_type": "markdown",
   "id": "fb4cdebe-448e-4de6-a661-788c421c48cb",
   "metadata": {},
   "source": [
    "# 3Sum"
   ]
  },
  {
   "cell_type": "markdown",
   "id": "0822fd57-f381-47ca-9f50-b3a8e3e4116a",
   "metadata": {},
   "source": [
    "Given an integer array nums, return all the triplets [nums[i], nums[j], nums[k]] such that i != j, i != k, and j != k, and nums[i] + nums[j] + nums[k] == 0.\n",
    "\n",
    "Notice that the solution set must not contain duplicate triplets."
   ]
  },
  {
   "cell_type": "markdown",
   "id": "1f6425ec-91dc-43bd-9988-c0c53884ecdc",
   "metadata": {},
   "source": [
    "Example 1:\n",
    "\n",
    "Input: nums = [-1,0,1,2,-1,-4]\n",
    "Output: [[-1,-1,2],[-1,0,1]]\n",
    "\n",
    "Example 2:\n",
    "\n",
    "Input: nums = []\n",
    "Output: []\n",
    "\n",
    "Example 3:\n",
    "\n",
    "Input: nums = [0]\n",
    "Output: []\n",
    "\n",
    "\n",
    "Constraints:\n",
    "\n",
    "    0 <= nums.length <= 3000\n",
    "    -105 <= nums[i] <= 105\n"
   ]
  },
  {
   "cell_type": "code",
   "execution_count": 15,
   "id": "3a7d3645-a147-4c9a-9e17-b08fe3e25ccf",
   "metadata": {},
   "outputs": [],
   "source": [
    "class Solution:\n",
    "    def threeSum(self, nums):\n",
    "        res = []\n",
    "        nums.sort()\n",
    "        for i in range(len(nums)):\n",
    "            if nums[i] > 0:\n",
    "                break\n",
    "            if i == 0 or nums[i - 1] != nums[i]:\n",
    "                self.twoSum(nums, i, res)\n",
    "        return res\n",
    "\n",
    "    def twoSum(self, nums, i: int, res):\n",
    "        seen = set()\n",
    "        j = i + 1\n",
    "        while j < len(nums):\n",
    "            complement = -nums[i] - nums[j]\n",
    "            if complement in seen:\n",
    "                res.append([nums[i], nums[j], complement])\n",
    "                while j + 1 < len(nums) and nums[j] == nums[j + 1]:\n",
    "                    j += 1\n",
    "            seen.add(nums[j])\n",
    "            j += 1"
   ]
  },
  {
   "cell_type": "code",
   "execution_count": 16,
   "id": "7874cc84-f2e8-4fd0-bdfd-0ae25af5de88",
   "metadata": {},
   "outputs": [
    {
     "name": "stdout",
     "output_type": "stream",
     "text": [
      "[[-1, 1, 0], [-1, 2, -1]]\n"
     ]
    }
   ],
   "source": [
    "s = Solution()\n",
    "res = s.threeSum([-1, 0, 1, 2, -1, -4])\n",
    "print(res)"
   ]
  },
  {
   "cell_type": "markdown",
   "id": "795c4783-0b3d-449f-952a-82de80f7498c",
   "metadata": {},
   "source": [
    "### Intuition\n",
    "\n",
    "Sort first! It makes things easier\n",
    "\n",
    "Then, go through each element in the list, and let the opposite of that element be the \"target\" for a two sum problem with the remaining elements to the right\n",
    "\n",
    "In all cases, don't consider a number if it has already been passed over. i.e. skip duplicate numbers."
   ]
  }
 ],
 "metadata": {
  "kernelspec": {
   "display_name": "Python 3",
   "language": "python",
   "name": "python3"
  },
  "language_info": {
   "codemirror_mode": {
    "name": "ipython",
    "version": 3
   },
   "file_extension": ".py",
   "mimetype": "text/x-python",
   "name": "python",
   "nbconvert_exporter": "python",
   "pygments_lexer": "ipython3",
   "version": "3.6.3"
  }
 },
 "nbformat": 4,
 "nbformat_minor": 5
}
