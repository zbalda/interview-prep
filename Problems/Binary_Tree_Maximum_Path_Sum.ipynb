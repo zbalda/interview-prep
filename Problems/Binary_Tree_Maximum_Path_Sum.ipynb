{
 "cells": [
  {
   "cell_type": "markdown",
   "id": "dd647642-31e3-4a53-94b4-22090727b33d",
   "metadata": {},
   "source": [
    "# Binary Tree Maximum Path Sum"
   ]
  },
  {
   "cell_type": "markdown",
   "id": "349930e3-dd12-4a1c-b3b7-b741a9368499",
   "metadata": {},
   "source": [
    "A path in a binary tree is a sequence of nodes where each pair of adjacent nodes in the sequence has an edge connecting them. A node can only appear in the sequence at most once. Note that the path does not need to pass through the root.\n",
    "\n",
    "The path sum of a path is the sum of the node's values in the path.\n",
    "\n",
    "Given the root of a binary tree, return the maximum path sum of any path.\n",
    "\n",
    " \n",
    "\n",
    "Example 1:\n",
    "\n",
    "Input: root = [1,2,3]\n",
    "Output: 6\n",
    "Explanation: The optimal path is 2 -> 1 -> 3 with a path sum of 2 + 1 + 3 = 6.\n",
    "\n",
    "Example 2:\n",
    "\n",
    "Input: root = [-10,9,20,null,null,15,7]\n",
    "Output: 42\n",
    "Explanation: The optimal path is 15 -> 20 -> 7 with a path sum of 15 + 20 + 7 = 42.\n",
    "\n",
    " \n",
    "\n",
    "Constraints:\n",
    "\n",
    "    The number of nodes in the tree is in the range [1, 3 * 104].\n",
    "    -1000 <= Node.val <= 1000\n",
    "\n"
   ]
  },
  {
   "cell_type": "code",
   "execution_count": 1,
   "id": "c52b797b-4e86-48bb-ba78-10f8a8e4cec8",
   "metadata": {},
   "outputs": [],
   "source": [
    "class TreeNode:\n",
    "    def __init__(self, val=0, left=None, right=None):\n",
    "        self.val = val\n",
    "        self.left = left\n",
    "        self.right = right\n",
    "    \n",
    "    def maximum(self):\n",
    "        left_max, left_global_max = 0, 0 if not self.left else self.left.maximum()\n",
    "        right_max, right_global_max = 0, 0 if not self.right else self.right.maximum()\n",
    "        line_max = max(left_max + self.val, right_max + self.val, self.val)\n",
    "        global_max = max(left_global_max, right_global_max, left_max + right_max + self.val)\n",
    "        return line_max, global_max\n",
    "    \n",
    "class Solution:\n",
    "    def maxPathSum(self, root: TreeNode) -> int:\n",
    "        line_max, global_max = root.maximum()\n",
    "        return max(line_max, global_max)\n",
    "        "
   ]
  }
 ],
 "metadata": {
  "kernelspec": {
   "display_name": "Python 3",
   "language": "python",
   "name": "python3"
  },
  "language_info": {
   "codemirror_mode": {
    "name": "ipython",
    "version": 3
   },
   "file_extension": ".py",
   "mimetype": "text/x-python",
   "name": "python",
   "nbconvert_exporter": "python",
   "pygments_lexer": "ipython3",
   "version": "3.6.3"
  }
 },
 "nbformat": 4,
 "nbformat_minor": 5
}
