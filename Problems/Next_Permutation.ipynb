{
 "cells": [
  {
   "cell_type": "markdown",
   "id": "46cd9c28-4129-4508-b132-1f806d55243e",
   "metadata": {},
   "source": [
    "# Next Permutation"
   ]
  },
  {
   "cell_type": "markdown",
   "id": "aaa90570-2aa8-4a3a-9e28-e3f3d57cf14a",
   "metadata": {},
   "source": [
    "Implement next permutation, which rearranges numbers into the lexicographically next greater permutation of numbers.\n",
    "\n",
    "If such an arrangement is not possible, it must rearrange it as the lowest possible order (i.e., sorted in ascending order).\n",
    "\n",
    "The replacement must be in place and use only constant extra memory.\n",
    "\n",
    "\n",
    "Example 1:\n",
    "\n",
    "Input: nums = [1,2,3]\n",
    "Output: [1,3,2]\n",
    "\n",
    "Example 2:\n",
    "\n",
    "Input: nums = [3,2,1]\n",
    "Output: [1,2,3]\n",
    "\n",
    "Example 3:\n",
    "\n",
    "Input: nums = [1,1,5]\n",
    "Output: [1,5,1]\n",
    "\n",
    "Example 4:\n",
    "\n",
    "Input: nums = [1]\n",
    "Output: [1]\n",
    "\n",
    " \n",
    "\n",
    "Constraints:\n",
    "\n",
    "    1 <= nums.length <= 100\n",
    "    0 <= nums[i] <= 100\n"
   ]
  }
 ],
 "metadata": {
  "kernelspec": {
   "display_name": "Python 3",
   "language": "python",
   "name": "python3"
  },
  "language_info": {
   "codemirror_mode": {
    "name": "ipython",
    "version": 3
   },
   "file_extension": ".py",
   "mimetype": "text/x-python",
   "name": "python",
   "nbconvert_exporter": "python",
   "pygments_lexer": "ipython3",
   "version": "3.6.3"
  }
 },
 "nbformat": 4,
 "nbformat_minor": 5
}
